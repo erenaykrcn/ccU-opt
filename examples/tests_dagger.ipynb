{
 "cells": [
  {
   "cell_type": "code",
   "execution_count": 229,
   "id": "4b2ae387-ea43-4aa3-9ac0-06577e573a4f",
   "metadata": {},
   "outputs": [],
   "source": [
    "import qiskit\n",
    "from qiskit.quantum_info import state_fidelity\n",
    "import numpy as np\n",
    "from numpy import linalg as LA\n",
    "import qib\n",
    "import matplotlib.pyplot as plt\n",
    "import scipy\n",
    "\n",
    "I = np.eye(2)\n",
    "X = np.array([[0, 1], [1, 0]])\n",
    "Y = np.array([[0, -1j], [1j, 0]])\n",
    "Z = np.array([[1, 0], [0, -1]])\n",
    "\n",
    "# Random unitary generator\n",
    "def random_unitary(n):\n",
    "    A = np.random.randn(n, n) + 1j * np.random.randn(n, n)\n",
    "    Q, _ = np.linalg.qr(A)\n",
    "    return Q\n",
    "\n",
    "\n",
    "def random_anti_herm(n):\n",
    "    A = np.random.randn(n, n) + 1j * np.random.randn(n, n)\n",
    "    return A - A.conj().T\n",
    "\n",
    "L = 4\n",
    "# construct Hamiltonian\n",
    "latt = qib.lattice.IntegerLattice((L,), pbc=True)\n",
    "field = qib.field.Field(qib.field.ParticleType.QUBIT, latt)\n",
    "#hamil = qib.IsingHamiltonian(field, 1, 0, 0).as_matrix().toarray()\n",
    "hamil = qib.HeisenbergHamiltonian(field, (1,1,1), (0,0,0)).as_matrix().toarray()\n",
    "nlayers = 3\n",
    "perms = [[i for i in range(L)] if i%2==0 else [i for i in range(1, L)]+[0] for i in range(nlayers)]\n",
    "#perms = [[i for i in range(L)], [i for i in range(1, L)]+[0]]\n",
    "\n",
    "t = 1\n",
    "U = scipy.linalg.expm(-1j*t*hamil)\n",
    "U_back = scipy.linalg.expm(1j*t*hamil)\n",
    "cU = U_back"
   ]
  },
  {
   "cell_type": "code",
   "execution_count": 230,
   "id": "e86e701f-c1e3-4d22-bce6-1774a348ce58",
   "metadata": {},
   "outputs": [
    {
     "data": {
      "text/plain": [
       "1.888208301055137"
      ]
     },
     "execution_count": 230,
     "metadata": {},
     "output_type": "execute_result"
    }
   ],
   "source": [
    "import sys\n",
    "sys.path.append(\"../ccU_dagger\")\n",
    "from ansatz_dagger import ansatz_dagger\n",
    "\n",
    "I2 = np.eye(2)\n",
    "X = np.array([[0, 1], [1, 0]])\n",
    "Y = np.array([[0, -1j], [1j, 0]])\n",
    "Z = np.array([[1, 0], [0, -1]])\n",
    "\n",
    "\n",
    "G1 = np.kron(I2, Z)\n",
    "G2 = np.kron(I2, I2)\n",
    "G3 = np.kron(I2, I2)\n",
    "Glist_opt = [G1, G2, G2]\n",
    "\n",
    "np.linalg.norm(cU - ansatz_dagger(Glist_opt, U, L, perms), ord=2)"
   ]
  },
  {
   "cell_type": "code",
   "execution_count": 231,
   "id": "58cca6a1-d649-4d92-8427-f758e23f9712",
   "metadata": {},
   "outputs": [
    {
     "name": "stdout",
     "output_type": "stream",
     "text": [
      "Difference (Frobenius norm): 2.5745018690522107e-09\n"
     ]
    }
   ],
   "source": [
    "from optimize_dagger import err_dagger as err\n",
    "from ansatz_dagger import ansatz_grad_vector_dagger\n",
    "from utils_dagger import antisymm_to_real, antisymm, partial_trace_keep\n",
    "\n",
    "f = err\n",
    "\n",
    "# Function to compute analytical gradient\n",
    "def grad_analytical(Glist, U, cU, L, perms, flatten=True):\n",
    "    return -ansatz_grad_vector_dagger(Glist, cU, U, L, perms, flatten=flatten)\n",
    "\n",
    "\n",
    "def grad_numerical(Glist, U, cU, epsilon=1e-6, flatten=True):\n",
    "    grads = []\n",
    "    for _ in range(len(Glist)):\n",
    "        W = Glist[_]\n",
    "        d = Glist[_].shape[0]\n",
    "        grad_complex = np.zeros((d, d), dtype=complex)\n",
    "\n",
    "        for i in range(d):\n",
    "            for j in range(d):\n",
    "                # Real perturbation\n",
    "                dW_real = np.zeros_like(W, dtype=complex)\n",
    "                dW_real[i, j] = epsilon\n",
    "\n",
    "                Glist_plus_real  = Glist[:_] + [W + dW_real] + Glist[_+1:]\n",
    "                Glist_minus_real = Glist[:_] + [W - dW_real] + Glist[_+1:]\n",
    "                \n",
    "                f_plus  = f(Glist_plus_real, U, L, perms, cU)\n",
    "                f_minus = f(Glist_minus_real, U, L, perms, cU)\n",
    "                df_real = (f_plus - f_minus) / (2 * epsilon)\n",
    "\n",
    "                # Imaginary perturbation\n",
    "                dW_imag = np.zeros_like(W, dtype=complex)\n",
    "                dW_imag[i, j] = 1j * epsilon\n",
    "\n",
    "                Glist_plus_imag  = Glist[:_] + [W + dW_imag] + Glist[_+1:]\n",
    "                Glist_minus_imag = Glist[:_] + [W - dW_imag] + Glist[_+1:]\n",
    "                \n",
    "                f_plus  = f(Glist_plus_imag, U, L, perms, cU)\n",
    "                f_minus = f(Glist_minus_imag, U, L, perms, cU)\n",
    "                df_imag = (f_plus - f_minus) / (2 * epsilon)\n",
    "    \n",
    "                grad_complex[i, j] = df_real + 1j * df_imag\n",
    "        grads.append(grad_complex)\n",
    "    \n",
    "    stack = np.stack([ antisymm_to_real(antisymm(W.conj().T @ grads[j])) for j, W in enumerate(Glist)])\n",
    "    if flatten:\n",
    "        return stack.reshape(-1)\n",
    "    return stack\n",
    "\n",
    "# Compute gradients\n",
    "Glist = [random_unitary(4) for i in range(len(perms))]\n",
    "grad_a = grad_analytical(Glist, U, cU, L, perms, flatten=True)\n",
    "grad_n = grad_numerical(Glist, U, cU, flatten=True)\n",
    "\n",
    "# Compare\n",
    "error = np.linalg.norm(grad_a - grad_n)\n",
    "print(\"Difference (Frobenius norm):\", error)"
   ]
  },
  {
   "cell_type": "code",
   "execution_count": 232,
   "id": "2dfe951e-f952-4adf-ad5e-1e926362a8e6",
   "metadata": {},
   "outputs": [
    {
     "name": "stdout",
     "output_type": "stream",
     "text": [
      "Difference norm: 3.1899243309048373e-09\n"
     ]
    }
   ],
   "source": [
    "# Numerical Test function for: d/G_j d/dG_i f(G)\n",
    "import sys\n",
    "sys.path.append(\"../ccU_dagger\")\n",
    "from utils_dagger import polar_decomp, project_unitary_tangent, real_to_antisymm, antisymm_to_real, antisymm\n",
    "from hessian_dagger import ansatz_hessian_matrix_dagger\n",
    "from ansatz_dagger import ansatz_grad_vector_dagger\n",
    "\n",
    "\n",
    "def numerical_hessian(Glist, cU, U, L, perms, i, j, epsilon=1e-6):\n",
    "    \"\"\"Numerically compute d/dW1 of projected gradient dL/dV1 (Riemannian).\"\"\"\n",
    "    numerical_H = []\n",
    "\n",
    "    for _ in range(16):\n",
    "        Z_real = np.zeros(16)\n",
    "        Z_real[_] = 1.0\n",
    "        Z = real_to_antisymm(Z_real.reshape(4, 4))  # 4x4 anti-Hermitian direction\n",
    "\n",
    "        Gj_plus  = Glist[j] @ scipy.linalg.expm(+epsilon*Z)\n",
    "        Gj_minus = Glist[j] @ scipy.linalg.expm(-epsilon*Z)\n",
    "\n",
    "\n",
    "        if i==j:\n",
    "            grad_plus  = ansatz_grad_vector_dagger(Glist[:j]+[Gj_plus]+Glist[j+1:], cU, U, L, perms, unprojected=True, flatten=False)[i]\n",
    "            grad_minus = ansatz_grad_vector_dagger(Glist[:j]+[Gj_minus]+Glist[j+1:], cU, U, L, perms, unprojected=True, flatten=False)[i]\n",
    "            dgrad = (grad_plus - grad_minus) / (2 * epsilon)  # shape (16,)\n",
    "            G = dgrad.reshape(4, 4)\n",
    "\n",
    "            V = Glist[j]\n",
    "            Z = V @ Z\n",
    "            G = project_unitary_tangent(V, G)\n",
    "            grad = ansatz_grad_vector_dagger(Glist, cU, U, L, perms, flatten=False, unprojected=True)[i]\n",
    "            \n",
    "            G -= 0.5 * (Z @ grad.conj().T @ V + V @ grad.conj().T @ Z)\n",
    "            if not np.allclose(Z, project_unitary_tangent(V, Z)):\n",
    "                G -= 0.5 * (Z @ V.conj().T + V @ Z.conj().T) @ grad\n",
    "            G = antisymm_to_real(antisymm( V.conj().T @ G ))\n",
    "        else:\n",
    "            grad_plus  = ansatz_grad_vector_dagger(Glist[:j]+[Gj_plus]+Glist[j+1:], cU, U, L, perms, unprojected=False, flatten=False)[i]\n",
    "            grad_minus = ansatz_grad_vector_dagger(Glist[:j]+[Gj_minus]+Glist[j+1:], cU, U, L, perms, unprojected=False, flatten=False)[i]\n",
    "            dgrad = (grad_plus - grad_minus) / (2 * epsilon)  # shape (16,)\n",
    "            G = dgrad.reshape(4, 4)\n",
    "\n",
    "            \n",
    "        numerical_H.append(G)\n",
    "    \n",
    "    return np.array(numerical_H)  # shape: (16, 4, 4)\n",
    "\n",
    "\n",
    "i, j = 0,0\n",
    "Glist = [random_unitary(4) for _ in range(len(perms))]\n",
    "H = ansatz_hessian_matrix_dagger(Glist, cU, U, L, perms, unprojected=False, flatten=False)\n",
    "grad = []\n",
    "for _ in range(16):\n",
    "    grad.append(H[i, :, j, _].reshape(4,4))\n",
    "analytical = np.array(grad)\n",
    "\n",
    "numerical = numerical_hessian(Glist, cU, U, L, perms, i, j)  \n",
    "\n",
    "print(\"Difference norm:\", np.linalg.norm(numerical - analytical))"
   ]
  },
  {
   "cell_type": "code",
   "execution_count": 233,
   "id": "2dbcb560-4477-44f3-aefc-6fd5e38f257f",
   "metadata": {},
   "outputs": [],
   "source": [
    "sys.path.append(\"../ccU\")\n",
    "from utils import applyG_block\n",
    "\n",
    "\n",
    "def bootstrap_U(Glist, U, perms):    \n",
    "    Vlist = Glist\n",
    "    Wlist = [G.conj().T for G in Glist[::-1]]\n",
    "\n",
    "    V = applyG_block(Vlist[0], L, perms[0])\n",
    "    for i in range(1, len(perms)):\n",
    "        V = applyG_block(Vlist[i], L, perms[i]) @ V\n",
    "\n",
    "    W = applyG_block(Wlist[0], L, perms[0])\n",
    "    for i in range(1, len(perms)):\n",
    "        W = applyG_block(Wlist[i], L, perms[i]) @ W\n",
    "\n",
    "    return W@U@V, V, W"
   ]
  },
  {
   "cell_type": "code",
   "execution_count": 236,
   "id": "4f0f4e2b-558e-43fe-bc7d-148396374b3a",
   "metadata": {
    "scrolled": true
   },
   "outputs": [
    {
     "name": "stdout",
     "output_type": "stream",
     "text": [
      "Best f:  -11.89222400668186\n",
      "Best err:  1.8100376584955196\n",
      "Best f:  -11.834416157831686\n",
      "Best err:  1.8253223490935668\n",
      "Best f:  -11.928867179069876\n",
      "Best err:  1.709527757790646\n",
      "Best f:  -12.049548428129828\n",
      "Best err:  1.7108166914777863\n",
      "Best f:  -11.980830640349454\n",
      "Best err:  1.677722745100316\n",
      "Best f:  -12.087462896291663\n",
      "Best err:  1.6376091562364938\n",
      "Best f:  -11.769260480154996\n",
      "Best err:  1.8268588417965563\n",
      "Best f:  -11.738483233391577\n",
      "Best err:  1.8693882950559635\n",
      "Best f:  -11.864158366495865\n",
      "Best err:  1.8298201114392665\n",
      "Best f:  -12.076024058845501\n",
      "Best err:  1.6501945478027567\n"
     ]
    }
   ],
   "source": [
    "import sys\n",
    "sys.path.append(\"../ccU_dagger\")\n",
    "from optimize_dagger import optimize_circuit_dagger, err_dagger\n",
    "from ansatz_dagger import ansatz_dagger\n",
    "\n",
    "sys.path.append(\"../ccU\")\n",
    "from utils import applyG_block\n",
    "\n",
    "\n",
    "Glists = []\n",
    "f_iters = []\n",
    "err_iters = []\n",
    "for _ in range(10):\n",
    "    Glist_start = [random_unitary(4) for _ in range(len(perms))]\n",
    "    \n",
    "    Glist, f_iter, err_iter = optimize_circuit_dagger(L, U, cU, Glist_start, perms, niter=30)\n",
    "    \n",
    "    print(\"Best f: \", f_iter[-1])\n",
    "    print(\"Best err: \", err_iter[-1])\n",
    "\n",
    "    Glists.append(Glist)\n",
    "    f_iters.append(f_iter)\n",
    "    err_iters.append(err_iter)"
   ]
  },
  {
   "cell_type": "code",
   "execution_count": null,
   "id": "415f3b5a-7f2e-4695-bd52-77080e64df31",
   "metadata": {},
   "outputs": [],
   "source": [
    "t = 1\n",
    "U = scipy.linalg.expm(-1j*t*hamil)\n",
    "U_back = scipy.linalg.expm(1j*t*hamil)\n",
    "cU = U_back\n",
    "\n",
    "np.linalg.norm(ansatz_dagger(Glist, U, L, perms) - cU, ord=2)"
   ]
  },
  {
   "cell_type": "code",
   "execution_count": 237,
   "id": "7e4e8a29-0835-4c3a-81ca-f3a36e04ec33",
   "metadata": {},
   "outputs": [
    {
     "data": {
      "text/plain": [
       "[<matplotlib.lines.Line2D at 0x158f0d4e0>]"
      ]
     },
     "execution_count": 237,
     "metadata": {},
     "output_type": "execute_result"
    },
    {
     "data": {
      "image/png": "[encoded data removed]",
      "text/plain": [
       "<Figure size 640x480 with 1 Axes>"
      ]
     },
     "metadata": {},
     "output_type": "display_data"
    }
   ],
   "source": [
    "plt.plot(f_iters[2])"
   ]
  },
  {
   "cell_type": "code",
   "execution_count": null,
   "id": "bb851ced-393d-4a6f-8f74-7844b7be9197",
   "metadata": {},
   "outputs": [],
   "source": []
  },
  {
   "cell_type": "code",
   "execution_count": null,
   "id": "517bd1d8-e5f6-455e-9c53-fd598b0155a9",
   "metadata": {},
   "outputs": [],
   "source": []
  }
 ],
 "metadata": {
  "kernelspec": {
   "display_name": "Python3.10 (qc)",
   "language": "python",
   "name": "qc"
  },
  "language_info": {
   "codemirror_mode": {
    "name": "ipython",
    "version": 3
   },
   "file_extension": ".py",
   "mimetype": "text/x-python",
   "name": "python",
   "nbconvert_exporter": "python",
   "pygments_lexer": "ipython3",
   "version": "3.10.13"
  }
 },
 "nbformat": 4,
 "nbformat_minor": 5
}
