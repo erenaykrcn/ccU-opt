{
 "cells": [
  {
   "cell_type": "code",
   "execution_count": 27,
   "id": "100aeca9-58a8-4363-a651-fec0a50c721e",
   "metadata": {},
   "outputs": [],
   "source": [
    "import qiskit\n",
    "from qiskit.quantum_info import state_fidelity\n",
    "import numpy as np\n",
    "from numpy import linalg as LA\n",
    "import qib\n",
    "import matplotlib.pyplot as plt\n",
    "import scipy\n",
    "\n",
    "I2 = np.eye(2)\n",
    "X = np.array([[0, 1], [1, 0]])\n",
    "Y = np.array([[0, -1j], [1j, 0]])\n",
    "Z = np.array([[1, 0], [0, -1]])\n",
    "\n",
    "# Random unitary generator\n",
    "def random_unitary(n):\n",
    "    A = np.random.randn(n, n) + 1j * np.random.randn(n, n)\n",
    "    Q, _ = np.linalg.qr(A)\n",
    "    return Q\n",
    "\n",
    "L = 4\n",
    "# construct Hamiltonian\n",
    "latt = qib.lattice.IntegerLattice((L,), pbc=True)\n",
    "field = qib.field.Field(qib.field.ParticleType.QUBIT, latt)\n",
    "#hamil = qib.IsingHamiltonian(field, 1, 0, 0).as_matrix().toarray()\n",
    "hamil = qib.HeisenbergHamiltonian(field, (1,1,1), (0,0,0)).as_matrix().toarray()\n",
    "perms = [[i for i in range(L)], [i for i in range(1, L)]+[0], [i for i in range(L)]]\n",
    "#perms = [[i for i in range(L)]]\n",
    "\n",
    "t = 10\n",
    "U = scipy.linalg.expm(-1j*t*hamil)\n",
    "U_back = scipy.linalg.expm(1j*t*hamil)\n",
    "cU = U_back"
   ]
  },
  {
   "cell_type": "code",
   "execution_count": null,
   "id": "48849aa0-fcab-4910-9815-17b0d22b4b70",
   "metadata": {},
   "outputs": [],
   "source": [
    "import sys\n",
    "sys.path.append(\"../ccU\")\n",
    "from utils import otimes, applyG\n",
    "from ansatz import ansatz, ansatz_grad_vector\n",
    "from hessian import ansatz_hessian_matrix\n",
    "from optimize import optimize_circuit\n",
    "\n",
    "\n",
    "Glists = []\n",
    "f_iters = []\n",
    "err_iters = []\n",
    "for _ in range(50):\n",
    "    Glist_start = [random_unitary(4) for _ in range(len(2*perms))]\n",
    "    #Glist_start = Glist_perms3_best_L4\n",
    "    Glist, f_iter, err_iter = optimize_circuit(L, U, cU, Glist_start, perms, niter=100)\n",
    "    print(\"Best f: \", f_iter[-1])\n",
    "    print(\"Best err: \", err_iter[-1])\n",
    "    Glists.append(Glist)\n",
    "    f_iters.append(f_iter)\n",
    "    err_iters.append(err_iter)"
   ]
  },
  {
   "cell_type": "code",
   "execution_count": 17,
   "id": "b281f20e-0d8c-446d-ab05-2b7f5c14a35e",
   "metadata": {},
   "outputs": [],
   "source": [
    "import h5py\n",
    "\n",
    "with h5py.File(f\"../results_data/Heisenberg1d_L{L}_t{t}_layers{len(perms)}_err{round(err_iters[5][-1], 2)}.hdf5\", \"w\") as f:\n",
    "    f.create_dataset(\"Glist\", data=Glists[5])\n",
    "    f.create_dataset(\"f_iter\", data=f_iters[5])"
   ]
  },
  {
   "cell_type": "code",
   "execution_count": 28,
   "id": "56bc873d-0fa3-42b8-b989-05aaa6ca84be",
   "metadata": {},
   "outputs": [
    {
     "name": "stdout",
     "output_type": "stream",
     "text": [
      "Reusing Best L=4 gates for L=4, Frobenius Norm:  1.7817328573034614e-09\n",
      "Cost function:  -16.000000000000018\n",
      "Reusing Best L=2 gates for L=4, Frobenius Norm:  1.9999509729452152\n",
      "Cost function:  -3.4358484041193478\n"
     ]
    }
   ],
   "source": [
    "from optimize import err\n",
    "\n",
    "L = 4\n",
    "latt = qib.lattice.IntegerLattice((L,), pbc=True)\n",
    "field = qib.field.Field(qib.field.ParticleType.QUBIT, latt)\n",
    "hamil = qib.HeisenbergHamiltonian(field, (1,1,1), (0,0,0)).as_matrix().toarray()\n",
    "perms = [[i for i in range(L)], [i for i in range(1, L)]+[0], [i for i in range(L)]]\n",
    "U = scipy.linalg.expm(-1j*t*hamil)\n",
    "U_back = scipy.linalg.expm(1j*t*hamil)\n",
    "cU = U_back\n",
    "\n",
    "err_opt = 0.0\n",
    "\n",
    "Glist_perms3_best_L4 = None\n",
    "with h5py.File(f\"../results_data/Heisenberg1d_L{L}_t{t}_layers{len(perms)}_err{err_opt}.hdf5\", \"r\") as f:\n",
    "    Glist_perms3_best_L4 = f[\"Glist\"][:]\n",
    "    f_iter_L4_best = f[\"f_iter\"][:]\n",
    "print(\"Reusing Best L=4 gates for L=4, Frobenius Norm: \", np.linalg.norm(ansatz(Glist_perms3_best_L4, U, L, perms) - cU, ord=2))\n",
    "print(\"Cost function: \", err(Glist_perms3_best_L4, U, L, perms, cU))\n",
    "\n",
    "Glist_perms3_best_L2 = None\n",
    "with h5py.File(f\"../results_data/Heisenberg1d_L2_t1_layers3.hdf5\", \"r\") as f:\n",
    "    Glist_perms3_best_L2 = f[\"Glist\"][:]\n",
    "print(\"Reusing Best L=2 gates for L=4, Frobenius Norm: \", np.linalg.norm(ansatz(Glist_perms3_best_L2, U, L, perms) - cU, ord=2))\n",
    "print(\"Cost function: \", err(Glist_perms3_best_L2, U, L, perms, cU))"
   ]
  },
  {
   "cell_type": "code",
   "execution_count": 19,
   "id": "7a1faa73-934b-4d83-aa52-4a39f17f6888",
   "metadata": {},
   "outputs": [
    {
     "name": "stdout",
     "output_type": "stream",
     "text": [
      "Reusing Perfect L=4 gates for L=6, Frobenius Norm:  2.0000000000000773\n",
      "Cost function:  5.975875044433202\n"
     ]
    }
   ],
   "source": [
    "L = 6\n",
    "latt = qib.lattice.IntegerLattice((L,), pbc=True)\n",
    "field = qib.field.Field(qib.field.ParticleType.QUBIT, latt)\n",
    "hamil = qib.HeisenbergHamiltonian(field, (1,1,1), (0,0,0)).as_matrix().toarray()\n",
    "perms = [[i for i in range(L)], [i for i in range(1, L)]+[0], [i for i in range(L)]]\n",
    "U = scipy.linalg.expm(-1j*t*hamil)\n",
    "U_back = scipy.linalg.expm(1j*t*hamil)\n",
    "cU = U_back\n",
    "\n",
    "print(\"Reusing Perfect L=4 gates for L=6, Frobenius Norm: \", np.linalg.norm(ansatz(Glist_perms3_best_L4, U, L, perms) - cU, ord=2))\n",
    "print(\"Cost function: \", err(Glist_perms3_best_L4, U, L, perms, cU))"
   ]
  },
  {
   "cell_type": "code",
   "execution_count": 30,
   "id": "d39a6ce7-0838-42a7-ac53-5af11436f4a4",
   "metadata": {},
   "outputs": [
    {
     "data": {
      "text/plain": [
       "[<matplotlib.lines.Line2D at 0x16c17b610>]"
      ]
     },
     "execution_count": 30,
     "metadata": {},
     "output_type": "execute_result"
    },
    {
     "data": {
      "image/png": "[encoded data removed]",
      "text/plain": [
       "<Figure size 640x480 with 1 Axes>"
      ]
     },
     "metadata": {},
     "output_type": "display_data"
    }
   ],
   "source": [
    "\"\"\"\n",
    "    In contrast to the Gradient Descent, here is the convergence of\n",
    "    Riemannian Trust Region optimizer, which is Hessian-aware.\n",
    "\"\"\"\n",
    "\n",
    "plt.ylabel(\"Cost Function\")\n",
    "plt.xlabel(\"Iterations\")\n",
    "plt.plot(f_iter_L4_best)"
   ]
  },
  {
   "cell_type": "code",
   "execution_count": null,
   "id": "11e6a444-a11b-4359-b5ce-3f82bb4ced05",
   "metadata": {},
   "outputs": [],
   "source": []
  }
 ],
 "metadata": {
  "kernelspec": {
   "display_name": "Python3.10 (qc)",
   "language": "python",
   "name": "qc"
  },
  "language_info": {
   "codemirror_mode": {
    "name": "ipython",
    "version": 3
   },
   "file_extension": ".py",
   "mimetype": "text/x-python",
   "name": "python",
   "nbconvert_exporter": "python",
   "pygments_lexer": "ipython3",
   "version": "3.10.13"
  }
 },
 "nbformat": 4,
 "nbformat_minor": 5
}
