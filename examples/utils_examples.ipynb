{
 "cells": [
  {
   "cell_type": "code",
   "execution_count": 34,
   "id": "387e01d1-c26c-411c-9d26-8f4decd73128",
   "metadata": {},
   "outputs": [
    {
     "name": "stdout",
     "output_type": "stream",
     "text": [
      "Ground State Energy -4.0\n"
     ]
    }
   ],
   "source": [
    "import qiskit\n",
    "from qiskit.quantum_info import state_fidelity\n",
    "import numpy as np\n",
    "from numpy import linalg as LA\n",
    "import qib\n",
    "import matplotlib.pyplot as plt\n",
    "\n",
    "\n",
    "# Parameters for the Ising Hamiltonian\n",
    "# L has to be even! Due to K only being able to control even Ls!\n",
    "L = 4\n",
    "\n",
    "# construct Hamiltonian\n",
    "latt = qib.lattice.IntegerLattice((L,), pbc=True)\n",
    "field = qib.field.Field(qib.field.ParticleType.QUBIT, latt)\n",
    "hamil = qib.IsingHamiltonian(field, 1, 0, 0).as_matrix().toarray()\n",
    "#hamil = qib.HeisenbergHamiltonian(field, (1,1,1), (0,0,0)).as_matrix().toarray()\n",
    "perms = [[i for i in range(L)], [i for i in range(1, L)]+[0]]\n",
    "\n",
    "eigenvalues, eigenvectors = LA.eig(hamil)\n",
    "idx = eigenvalues.argsort()\n",
    "eigenvalues_sort = eigenvalues[idx]\n",
    "eigenvectors_sort = eigenvectors[:,idx]\n",
    "ground_state = eigenvectors_sort[:, 0]\n",
    "print(\"Ground State Energy\", -eigenvalues_sort[-1].real)"
   ]
  },
  {
   "cell_type": "code",
   "execution_count": 35,
   "id": "e807d644-fe15-496c-855a-c9008c327696",
   "metadata": {},
   "outputs": [],
   "source": [
    "def unitary_approximation(V):\n",
    "    U, _, Vh = np.linalg.svd(V)\n",
    "    unitary_approx = U @ Vh\n",
    "    return unitary_approx"
   ]
  },
  {
   "cell_type": "code",
   "execution_count": 36,
   "id": "99e60dc6-16c9-4afd-8056-3e6599e95d9d",
   "metadata": {},
   "outputs": [],
   "source": [
    "import scipy\n",
    "\n",
    "ket_0 = np.array([[1],[0]])\n",
    "ket_1 = np.array([[0],[1]])\n",
    "rho_0_anc = ket_0 @ ket_0.T\n",
    "rho_1_anc = ket_1 @ ket_1.T\n",
    "U = scipy.linalg.expm(-1j*hamil)\n",
    "U_back = scipy.linalg.expm(1j*hamil)\n",
    "cU = np.kron(rho_0_anc, U_back) + np.kron(rho_1_anc, U)"
   ]
  },
  {
   "cell_type": "code",
   "execution_count": 37,
   "id": "cb59507d-0a85-4466-853e-65369dab6fbc",
   "metadata": {},
   "outputs": [],
   "source": [
    "I2 = np.eye(2)\n",
    "X = np.array([[0, 1], [1, 0]])\n",
    "Y = np.array([[0, -1j], [1j, 0]])\n",
    "Z = np.array([[1, 0], [0, -1]])"
   ]
  },
  {
   "cell_type": "code",
   "execution_count": 38,
   "id": "5ea8acd9-12c3-4354-a074-0a1433d680c9",
   "metadata": {},
   "outputs": [
    {
     "data": {
      "text/plain": [
       "0.0"
      ]
     },
     "execution_count": 38,
     "metadata": {},
     "output_type": "execute_result"
    }
   ],
   "source": [
    "import sys\n",
    "sys.path.append(\"../ccU\")\n",
    "from utils import otimes, applyG\n",
    "from ansatz import ansatz, ansatz_grad_vector\n",
    "from hessian import ansatz_hessian_matrix\n",
    "\n",
    "V1 = np.kron(X, I2)\n",
    "V1 = np.kron(rho_1_anc, np.eye(4)) + np.kron(rho_0_anc, V1)\n",
    "V2 = np.kron(I2, I2)\n",
    "V2 = np.kron(rho_1_anc, np.eye(4)) + np.kron(rho_0_anc, V2)\n",
    "W1 = V1\n",
    "W2 = V2\n",
    "Glist = [V1, V2, W1, W2]\n",
    "\n",
    "np.linalg.norm(cU - ansatz(Glist, U, L, perms), ord=2)"
   ]
  },
  {
   "cell_type": "code",
   "execution_count": 39,
   "id": "e3d3a937-382a-4b0b-8de1-6b7a211f6c20",
   "metadata": {},
   "outputs": [
    {
     "data": {
      "text/plain": [
       "-32.0"
      ]
     },
     "execution_count": 39,
     "metadata": {},
     "output_type": "execute_result"
    }
   ],
   "source": [
    "from optimize import err\n",
    "\n",
    "err(Glist, U, L, perms, cU)"
   ]
  },
  {
   "cell_type": "code",
   "execution_count": 40,
   "id": "1a70668d-70d1-4e94-bc6e-7667b9417e29",
   "metadata": {},
   "outputs": [
    {
     "data": {
      "text/plain": [
       "1.4060808631937454e-18"
      ]
     },
     "execution_count": 40,
     "metadata": {},
     "output_type": "execute_result"
    }
   ],
   "source": [
    "grad = ansatz_grad_vector(Glist, cU, U, L, perms, flatten=True)\n",
    "np.linalg.norm(grad, ord=2)\n",
    "\n",
    "# Gradient is indeed 0 at the optimal/exact solution. -> Suggested me that my gradient is correct (?)"
   ]
  },
  {
   "cell_type": "code",
   "execution_count": 41,
   "id": "ec6752da-3d24-463f-8d75-6fcdb464300a",
   "metadata": {},
   "outputs": [
    {
     "data": {
      "text/plain": [
       "1.5136049906158566"
      ]
     },
     "execution_count": 41,
     "metadata": {},
     "output_type": "execute_result"
    }
   ],
   "source": [
    "# Initial params.\n",
    "V1 = np.kron(Z, I2)\n",
    "V1 = np.kron(rho_1_anc, np.eye(4)) + np.kron(rho_0_anc, V1)\n",
    "V2 = np.kron(I2, I2)\n",
    "V2 = np.kron(rho_1_anc, np.eye(4)) + np.kron(rho_0_anc, V2)\n",
    "W1 = V1\n",
    "W2 = V2\n",
    "Glist = [V1, V2, W1, W2]\n",
    "\n",
    "np.linalg.norm(cU - ansatz(Glist, U, L, perms), ord=2)"
   ]
  },
  {
   "cell_type": "code",
   "execution_count": 48,
   "id": "be73e650-8f67-4449-8c2e-f346b02db7f2",
   "metadata": {},
   "outputs": [
    {
     "name": "stdout",
     "output_type": "stream",
     "text": [
      "Finite difference gradient: 13.32201637520569\n",
      "Inner product with analytical gradient: 11.065253180583905\n",
      "Relative error: 0.16940102241744473\n"
     ]
    }
   ],
   "source": [
    "from utils import antisymm, antisymm_to_real\n",
    "import numpy as np\n",
    "\n",
    "epsilon = 1e-5\n",
    "\n",
    "# Random perturbation in the same structure as Glist\n",
    "Zlist = [np.random.randn(8,8) + 1j*np.random.randn(8,8) for G in Glist]\n",
    "# Project each Z matrix onto anti-Hermitian matrices\n",
    "Zlist = [antisymm(Z) for Z in Zlist]\n",
    "\n",
    "# Perturb Glist\n",
    "Glist_plus = [G + epsilon * Z for G, Z in zip(Glist, Zlist)]\n",
    "Glist_minus = [G - epsilon * Z for G, Z in zip(Glist, Zlist)]\n",
    "\n",
    "f_plus = err(Glist_plus, U, L, perms, cU)\n",
    "f_minus = err(Glist_minus, U, L, perms, cU)\n",
    "\n",
    "# Finite difference estimate\n",
    "grad_fd = (f_plus - f_minus) / (2 * epsilon)\n",
    "\n",
    "# Compute analytical gradient\n",
    "grad = -ansatz_grad_vector(Glist, cU, U, L, perms, flatten=True)  # This gives a real flat vector\n",
    "\n",
    "# Flatten Zlist in the same way as grad\n",
    "Zlist_flat = np.concatenate([antisymm_to_real(Z) for Z in Zlist]).ravel()\n",
    "\n",
    "# Inner product\n",
    "inner_product = np.dot(grad, Zlist_flat)\n",
    "\n",
    "print(\"Finite difference gradient:\", grad_fd)\n",
    "print(\"Inner product with analytical gradient:\", inner_product)\n",
    "\n",
    "# Should be close:\n",
    "print(\"Relative error:\", np.abs(grad_fd - inner_product) / np.abs(grad_fd))\n",
    "\n",
    "# !! Gradient does not seem to be quite correct..."
   ]
  },
  {
   "cell_type": "code",
   "execution_count": null,
   "id": "ef27a212-7532-43b3-8fed-c5819d909c33",
   "metadata": {},
   "outputs": [],
   "source": []
  },
  {
   "cell_type": "code",
   "execution_count": null,
   "id": "ddbd1fea-74e4-4971-8354-4fc5dd38a9d4",
   "metadata": {},
   "outputs": [],
   "source": []
  },
  {
   "cell_type": "code",
   "execution_count": null,
   "id": "d64498af-f60a-4dbd-974f-f0a4ba7ce412",
   "metadata": {},
   "outputs": [],
   "source": []
  },
  {
   "cell_type": "code",
   "execution_count": null,
   "id": "9fde7399-694f-4277-b9d9-10b70657767b",
   "metadata": {},
   "outputs": [],
   "source": []
  },
  {
   "cell_type": "code",
   "execution_count": null,
   "id": "45ace9bc-16ba-4009-a33a-edf9aff763df",
   "metadata": {},
   "outputs": [],
   "source": []
  },
  {
   "cell_type": "code",
   "execution_count": null,
   "id": "7dc2716b-46f5-493a-81d6-52940548d0b1",
   "metadata": {},
   "outputs": [],
   "source": []
  },
  {
   "cell_type": "code",
   "execution_count": null,
   "id": "23800857-b903-4133-b887-9e4f704193e6",
   "metadata": {},
   "outputs": [],
   "source": []
  },
  {
   "cell_type": "code",
   "execution_count": null,
   "id": "dbb33b23-7c17-4dc6-b646-b5d730a2589b",
   "metadata": {},
   "outputs": [],
   "source": []
  },
  {
   "cell_type": "code",
   "execution_count": null,
   "id": "3e9512d5-6f7a-47b2-b320-8d26269cbb4f",
   "metadata": {},
   "outputs": [],
   "source": []
  },
  {
   "cell_type": "code",
   "execution_count": null,
   "id": "e1e57345-86ad-485e-9f15-f1ff175919c2",
   "metadata": {},
   "outputs": [],
   "source": []
  },
  {
   "cell_type": "code",
   "execution_count": null,
   "id": "f62ca201-911c-4dda-98af-aef6da6e51a4",
   "metadata": {},
   "outputs": [],
   "source": []
  },
  {
   "cell_type": "code",
   "execution_count": null,
   "id": "8c1b7286-e775-4f75-8c61-3258827fb154",
   "metadata": {},
   "outputs": [],
   "source": []
  },
  {
   "cell_type": "code",
   "execution_count": null,
   "id": "ec636adf-e84f-48e3-b19f-e37ab43b7893",
   "metadata": {},
   "outputs": [],
   "source": []
  }
 ],
 "metadata": {
  "kernelspec": {
   "display_name": "Python3.10 (qc)",
   "language": "python",
   "name": "qc"
  },
  "language_info": {
   "codemirror_mode": {
    "name": "ipython",
    "version": 3
   },
   "file_extension": ".py",
   "mimetype": "text/x-python",
   "name": "python",
   "nbconvert_exporter": "python",
   "pygments_lexer": "ipython3",
   "version": "3.10.13"
  }
 },
 "nbformat": 4,
 "nbformat_minor": 5
}
