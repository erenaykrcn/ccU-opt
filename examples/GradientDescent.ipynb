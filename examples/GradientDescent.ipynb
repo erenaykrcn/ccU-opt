{
 "cells": [
  {
   "cell_type": "code",
   "execution_count": 535,
   "id": "387e01d1-c26c-411c-9d26-8f4decd73128",
   "metadata": {},
   "outputs": [
    {
     "name": "stdout",
     "output_type": "stream",
     "text": [
      "Ground State Energy -6.000000000000011\n"
     ]
    }
   ],
   "source": [
    "import qiskit\n",
    "from qiskit.quantum_info import state_fidelity\n",
    "import numpy as np\n",
    "from numpy import linalg as LA\n",
    "import qib\n",
    "import matplotlib.pyplot as plt\n",
    "\n",
    "\n",
    "# Parameters for the Ising Hamiltonian\n",
    "# L has to be even! Due to K only being able to control even Ls!\n",
    "L = 6\n",
    "\n",
    "# construct Hamiltonian\n",
    "latt = qib.lattice.IntegerLattice((L,), pbc=True)\n",
    "field = qib.field.Field(qib.field.ParticleType.QUBIT, latt)\n",
    "#hamil = qib.IsingHamiltonian(field, 1, 0, 0).as_matrix().toarray()\n",
    "hamil = qib.HeisenbergHamiltonian(field, (1,1,1), (0,0,0)).as_matrix().toarray()\n",
    "perms = [[i for i in range(L)], [i for i in range(1, L)]+[0]]\n",
    "#perms = [[0, 1]]\n",
    "\n",
    "eigenvalues, eigenvectors = LA.eig(hamil)\n",
    "idx = eigenvalues.argsort()\n",
    "eigenvalues_sort = eigenvalues[idx]\n",
    "eigenvectors_sort = eigenvectors[:,idx]\n",
    "ground_state = eigenvectors_sort[:, 0]\n",
    "print(\"Ground State Energy\", -eigenvalues_sort[-1].real)"
   ]
  },
  {
   "cell_type": "code",
   "execution_count": 536,
   "id": "e807d644-fe15-496c-855a-c9008c327696",
   "metadata": {},
   "outputs": [],
   "source": [
    "def unitary_approximation(V):\n",
    "    U, _, Vh = np.linalg.svd(V)\n",
    "    unitary_approx = U @ Vh\n",
    "    return unitary_approx"
   ]
  },
  {
   "cell_type": "code",
   "execution_count": 537,
   "id": "99e60dc6-16c9-4afd-8056-3e6599e95d9d",
   "metadata": {},
   "outputs": [],
   "source": [
    "import scipy\n",
    "\n",
    "U = scipy.linalg.expm(-1j*hamil)\n",
    "U_back = scipy.linalg.expm(1j*hamil)\n",
    "cU = U_back"
   ]
  },
  {
   "cell_type": "code",
   "execution_count": 538,
   "id": "cb59507d-0a85-4466-853e-65369dab6fbc",
   "metadata": {},
   "outputs": [],
   "source": [
    "I2 = np.eye(2)\n",
    "X = np.array([[0, 1], [1, 0]])\n",
    "Y = np.array([[0, -1j], [1j, 0]])\n",
    "Z = np.array([[1, 0], [0, -1]])"
   ]
  },
  {
   "cell_type": "code",
   "execution_count": 539,
   "id": "5ea8acd9-12c3-4354-a074-0a1433d680c9",
   "metadata": {},
   "outputs": [
    {
     "data": {
      "text/plain": [
       "1.9643062100000424"
      ]
     },
     "execution_count": 539,
     "metadata": {},
     "output_type": "execute_result"
    }
   ],
   "source": [
    "import sys\n",
    "sys.path.append(\"../ccU\")\n",
    "from utils import otimes, applyG\n",
    "from ansatz import ansatz, ansatz_grad_vector\n",
    "from hessian import ansatz_hessian_matrix\n",
    "\n",
    "V1 = np.kron(X, I2)\n",
    "V2 = np.kron(I2, I2)\n",
    "W1 = V1\n",
    "W2 = V2\n",
    "Glist_opt = [V1, V2, W1, W2]\n",
    "#Glist_opt = [V1, W1]\n",
    "\n",
    "np.linalg.norm(cU - ansatz(Glist_opt, U, L, perms), ord=2)"
   ]
  },
  {
   "cell_type": "code",
   "execution_count": 540,
   "id": "e3d3a937-382a-4b0b-8de1-6b7a211f6c20",
   "metadata": {},
   "outputs": [
    {
     "data": {
      "text/plain": [
       "5.112942805383254"
      ]
     },
     "execution_count": 540,
     "metadata": {},
     "output_type": "execute_result"
    }
   ],
   "source": [
    "from optimize import err\n",
    "\n",
    "err(Glist_opt, U, L, perms, cU)"
   ]
  },
  {
   "cell_type": "code",
   "execution_count": 541,
   "id": "1a70668d-70d1-4e94-bc6e-7667b9417e29",
   "metadata": {},
   "outputs": [
    {
     "data": {
      "text/plain": [
       "23.28420348821157"
      ]
     },
     "execution_count": 541,
     "metadata": {},
     "output_type": "execute_result"
    }
   ],
   "source": [
    "grad = ansatz_grad_vector(Glist_opt, cU, U, L, perms, flatten=True)\n",
    "np.linalg.norm(grad, ord=2)\n",
    "\n",
    "# Gradient is indeed 0 at the optimal/exact solution. -> Suggested me that my gradient is correct (?)"
   ]
  },
  {
   "cell_type": "code",
   "execution_count": 542,
   "id": "173d57a9-9bfe-4889-9d72-f48961384fe6",
   "metadata": {},
   "outputs": [],
   "source": [
    "# Random unitary generator\n",
    "def random_unitary(n):\n",
    "    A = np.random.randn(n, n) + 1j * np.random.randn(n, n)\n",
    "    Q, _ = np.linalg.qr(A)\n",
    "    return Q"
   ]
  },
  {
   "cell_type": "code",
   "execution_count": 543,
   "id": "ec6752da-3d24-463f-8d75-6fcdb464300a",
   "metadata": {},
   "outputs": [
    {
     "data": {
      "text/plain": [
       "1.9998900783219251"
      ]
     },
     "execution_count": 543,
     "metadata": {},
     "output_type": "execute_result"
    }
   ],
   "source": [
    "# Initial params.\n",
    "Glist = [random_unitary(4) for i in range(len(2*perms))]\n",
    "\n",
    "np.linalg.norm(cU - ansatz(Glist, U, L, perms), ord=2)"
   ]
  },
  {
   "cell_type": "code",
   "execution_count": 544,
   "id": "8d783bc3-04f6-40d5-a8b1-28eebfc92ded",
   "metadata": {},
   "outputs": [
    {
     "name": "stdout",
     "output_type": "stream",
     "text": [
      "Difference (Frobenius norm): 2.018296643324292e-09\n"
     ]
    }
   ],
   "source": [
    "import numpy as np\n",
    "from utils import antisymm_to_real, antisymm, partial_trace_keep\n",
    "\n",
    "f = err\n",
    "\n",
    "# Function to compute analytical gradient\n",
    "def grad_analytical(Glist, U, cU, L, perms, flatten=True):\n",
    "    return -ansatz_grad_vector(Glist, cU, U, L, perms, flatten=flatten)\n",
    "\n",
    "\n",
    "def grad_numerical(Glist, U, cU, epsilon=1e-6, flatten=True):\n",
    "    grads = []\n",
    "    for _ in range(len(Glist)):\n",
    "        W = Glist[_]\n",
    "        d = Glist[_].shape[0]\n",
    "        grad_complex = np.zeros((d, d), dtype=complex)\n",
    "\n",
    "        for i in range(d):\n",
    "            for j in range(d):\n",
    "                # Real perturbation\n",
    "                dW_real = np.zeros_like(W, dtype=complex)\n",
    "                dW_real[i, j] = epsilon\n",
    "\n",
    "                Glist_plus_real  = Glist[:_] + [W + dW_real] + Glist[_+1:]\n",
    "                Glist_minus_real = Glist[:_] + [W - dW_real] + Glist[_+1:]\n",
    "                \n",
    "                f_plus  = f(Glist_plus_real, U, L, perms, cU)\n",
    "                f_minus = f(Glist_minus_real, U, L, perms, cU)\n",
    "                df_real = (f_plus - f_minus) / (2 * epsilon)\n",
    "\n",
    "                # Imaginary perturbation\n",
    "                dW_imag = np.zeros_like(W, dtype=complex)\n",
    "                dW_imag[i, j] = 1j * epsilon\n",
    "\n",
    "                Glist_plus_imag  = Glist[:_] + [W + dW_imag] + Glist[_+1:]\n",
    "                Glist_minus_imag = Glist[:_] + [W - dW_imag] + Glist[_+1:]\n",
    "                \n",
    "                f_plus  = f(Glist_plus_imag, U, L, perms, cU)\n",
    "                f_minus = f(Glist_minus_imag, U, L, perms, cU)\n",
    "                df_imag = (f_plus - f_minus) / (2 * epsilon)\n",
    "    \n",
    "                grad_complex[i, j] = df_real + 1j * df_imag\n",
    "        grads.append(grad_complex)\n",
    "    \n",
    "    stack = np.stack([ antisymm_to_real(antisymm(W.conj().T @ grads[j])) for j, W in enumerate(Glist)])\n",
    "    if flatten:\n",
    "        return stack.reshape(-1)\n",
    "    return stack\n",
    "\n",
    "# Compute gradients\n",
    "grad_a = grad_analytical(Glist, U, cU, L, perms, flatten=True)\n",
    "grad_n = grad_numerical(Glist, U, cU, flatten=True)\n",
    "\n",
    "# Compare\n",
    "error = np.linalg.norm(grad_a - grad_n)\n",
    "print(\"Difference (Frobenius norm):\", error)"
   ]
  },
  {
   "cell_type": "code",
   "execution_count": 545,
   "id": "f381ea36-2300-4cb0-9e2f-a538690a2e6d",
   "metadata": {},
   "outputs": [],
   "source": [
    "#Glist_pert = [perturb_unitary(G, epsilon=1) for G in Glist_opt]\n",
    "V1 = np.kron(Z, I2)\n",
    "V2 = np.kron(I2, I2)\n",
    "W1 = V1\n",
    "W2 = V2\n",
    "Glist_pert = [V1, V2, W1, W2]"
   ]
  },
  {
   "cell_type": "code",
   "execution_count": 546,
   "id": "41d0cb57-c6ca-4be8-a43d-5b89e6a9ab0d",
   "metadata": {},
   "outputs": [
    {
     "data": {
      "image/png": "[encoded data removed]",
      "text/plain": [
       "<Figure size 640x480 with 1 Axes>"
      ]
     },
     "metadata": {},
     "output_type": "display_data"
    }
   ],
   "source": [
    "\"\"\"\n",
    "    Perturb the optimal Glist slightly and apply gradient descent to see if \n",
    "    the gradient is behaving correctly. This indeed seems to be the case.\n",
    "\"\"\"\n",
    "\n",
    "def perturb_unitary(G, epsilon=1e-2):\n",
    "    A = np.random.randn(*G.shape) + 1j * np.random.randn(*G.shape)\n",
    "    H = 0.5 * (A + A.conj().T)  # Hermitian\n",
    "    return scipy.linalg.expm(-1j * epsilon * H) @ G\n",
    "\n",
    "def step_Glist(Glist, grad, lr):\n",
    "    Glist_new = []\n",
    "    for G, g in zip(Glist, grad):\n",
    "        # Recover anti-Hermitian A from real-valued g\n",
    "        A = 0.5 * (g - g.T) + 0.5j * (g + g.T)  # this is anti-Hermitian: A† = -A\n",
    "        # Riemannian update on unitary manifold:\n",
    "        G_new = scipy.linalg.expm(-lr * A) @ G  # guarantees G_new is unitary\n",
    "        Glist_new.append(G_new)\n",
    "    return Glist_new\n",
    "\n",
    "\n",
    "Glist = Glist_pert\n",
    "history = []\n",
    "for step in range(200):\n",
    "    loss = f(Glist, U, L, perms, cU)\n",
    "    history.append(loss)\n",
    "    grad = grad_analytical(Glist, U, cU, L, perms, flatten=False)\n",
    "    Glist = step_Glist(Glist, grad, lr=0.01)\n",
    "    #print(f\"Step {step}, f = {loss:.6f}\")\n",
    "\n",
    "    if np.abs(loss + 16) < 1e-3:  # convergence criterion for L=4 (Tr(I) = 16)\n",
    "        print(\"Converged!\")\n",
    "        break\n",
    "\n",
    "import matplotlib.pyplot as plt\n",
    "plt.plot(history)\n",
    "plt.xlabel(\"Step\")\n",
    "plt.ylabel(\"f(Glist)\")\n",
    "plt.title(\"Convergence of Gradient Descent\")\n",
    "plt.show()"
   ]
  },
  {
   "cell_type": "code",
   "execution_count": 547,
   "id": "c887c193-b49c-4093-9e95-50a1f36c5f4e",
   "metadata": {},
   "outputs": [
    {
     "data": {
      "text/plain": [
       "1.9565538827014992"
      ]
     },
     "execution_count": 547,
     "metadata": {},
     "output_type": "execute_result"
    }
   ],
   "source": [
    "\"\"\"\n",
    "    We see that a global optimum is achivable in L=2 case just by gradient descent.\n",
    "\"\"\"\n",
    "\n",
    "Glist_opt_L2 = Glist\n",
    "np.linalg.norm(ansatz(Glist_opt_L2, U, L, perms) - cU, ord=2)"
   ]
  },
  {
   "cell_type": "code",
   "execution_count": 519,
   "id": "ddbd1fea-74e4-4971-8354-4fc5dd38a9d4",
   "metadata": {},
   "outputs": [],
   "source": [
    "L = 4\n",
    "\n",
    "# construct Hamiltonian\n",
    "latt = qib.lattice.IntegerLattice((L,), pbc=True)\n",
    "field = qib.field.Field(qib.field.ParticleType.QUBIT, latt)\n",
    "#hamil = qib.IsingHamiltonian(field, 1, 0, 0).as_matrix().toarray()\n",
    "hamil = qib.HeisenbergHamiltonian(field, (1,1,1), (0,0,0)).as_matrix().toarray()\n",
    "perms = [[i for i in range(L)], [i for i in range(1, L)]+[0]]\n",
    "U = scipy.linalg.expm(-1j*hamil)\n",
    "U_back = scipy.linalg.expm(1j*hamil)\n",
    "cU = U_back"
   ]
  },
  {
   "cell_type": "code",
   "execution_count": 520,
   "id": "dcbd567d-23dd-4c3e-9083-e02f4810da0d",
   "metadata": {},
   "outputs": [
    {
     "data": {
      "image/png": "[encoded data removed]",
      "text/plain": [
       "<Figure size 640x480 with 1 Axes>"
      ]
     },
     "metadata": {},
     "output_type": "display_data"
    }
   ],
   "source": [
    "\n",
    "#Glist = [random_unitary(4) for i in range(len(Glist))]\n",
    "Glist = Glist_opt_L2\n",
    "\n",
    "history = []\n",
    "for step in range(300):\n",
    "    loss = f(Glist, U, L, perms, cU)\n",
    "    history.append(loss)\n",
    "    grad = grad_analytical(Glist, U, cU, L, perms, flatten=False)\n",
    "    Glist = step_Glist(Glist, grad, lr=0.01)\n",
    "    #print(f\"Step {step}, f = {loss:.6f}\")\n",
    "    \n",
    "    if np.abs(loss + 16) < 1:  # convergence criterion for L=4 (Tr(I) = 16)\n",
    "        print(\"Converged!\")\n",
    "        break\n",
    "    \n",
    "import matplotlib.pyplot as plt\n",
    "plt.plot(history)\n",
    "plt.xlabel(\"Step\")\n",
    "plt.ylabel(\"f(Glist)\")\n",
    "plt.title(\"Convergence of Gradient Descent\")\n",
    "plt.show()"
   ]
  },
  {
   "cell_type": "code",
   "execution_count": 521,
   "id": "d64498af-f60a-4dbd-974f-f0a4ba7ce412",
   "metadata": {},
   "outputs": [
    {
     "data": {
      "text/plain": [
       "1.9458257460978954"
      ]
     },
     "execution_count": 521,
     "metadata": {},
     "output_type": "execute_result"
    }
   ],
   "source": [
    "\"\"\"\n",
    "    In L=4 case we achieve only a local minimum with the gradient descent.\n",
    "    More important question: Is there a global minimum that's smaller than\n",
    "    f = -13? Can Riemannian Trust Region enable us this?\n",
    "\"\"\"\n",
    "\n",
    "Glist_opt_L4 = Glist\n",
    "np.linalg.norm(ansatz(Glist, U, L, perms) - cU, ord=2)"
   ]
  },
  {
   "cell_type": "code",
   "execution_count": 522,
   "id": "9fde7399-694f-4277-b9d9-10b70657767b",
   "metadata": {},
   "outputs": [
    {
     "name": "stdout",
     "output_type": "stream",
     "text": [
      "Reusing L=2 gates for L=6:  1.9098709188734606\n"
     ]
    }
   ],
   "source": [
    "\"\"\"\n",
    "    Also, resuing the optimal gates of L=2 doesnt really bring us anything.\n",
    "    Important Question: Optimizing for small system and scaling to larger \n",
    "    system will fail?\n",
    "\"\"\"\n",
    "\n",
    "L = 6\n",
    "latt = qib.lattice.IntegerLattice((L,), pbc=True)\n",
    "field = qib.field.Field(qib.field.ParticleType.QUBIT, latt)\n",
    "#hamil = qib.IsingHamiltonian(field, 1, 0, 0).as_matrix().toarray()\n",
    "hamil = qib.HeisenbergHamiltonian(field, (1,1,1), (0,0,0)).as_matrix().toarray()\n",
    "perms = [[i for i in range(L)], [i for i in range(1, L)]+[0]]\n",
    "U = scipy.linalg.expm(-1j*hamil)\n",
    "U_back = scipy.linalg.expm(1j*hamil)\n",
    "cU = U_back\n",
    "print(\"Reusing L=2 gates for L=6: \", np.linalg.norm(ansatz(Glist_opt_L2, U, L, perms) - cU, ord=2))"
   ]
  },
  {
   "cell_type": "code",
   "execution_count": null,
   "id": "45ace9bc-16ba-4009-a33a-edf9aff763df",
   "metadata": {},
   "outputs": [],
   "source": []
  },
  {
   "cell_type": "code",
   "execution_count": null,
   "id": "7dc2716b-46f5-493a-81d6-52940548d0b1",
   "metadata": {},
   "outputs": [],
   "source": []
  },
  {
   "cell_type": "code",
   "execution_count": null,
   "id": "23800857-b903-4133-b887-9e4f704193e6",
   "metadata": {},
   "outputs": [],
   "source": []
  },
  {
   "cell_type": "code",
   "execution_count": null,
   "id": "dbb33b23-7c17-4dc6-b646-b5d730a2589b",
   "metadata": {},
   "outputs": [],
   "source": []
  },
  {
   "cell_type": "code",
   "execution_count": null,
   "id": "3e9512d5-6f7a-47b2-b320-8d26269cbb4f",
   "metadata": {},
   "outputs": [],
   "source": []
  },
  {
   "cell_type": "code",
   "execution_count": null,
   "id": "e1e57345-86ad-485e-9f15-f1ff175919c2",
   "metadata": {},
   "outputs": [],
   "source": []
  },
  {
   "cell_type": "code",
   "execution_count": null,
   "id": "f62ca201-911c-4dda-98af-aef6da6e51a4",
   "metadata": {},
   "outputs": [],
   "source": []
  },
  {
   "cell_type": "code",
   "execution_count": null,
   "id": "8c1b7286-e775-4f75-8c61-3258827fb154",
   "metadata": {},
   "outputs": [],
   "source": [
    "from utils import antisymm, antisymm_to_real, applyG_block\n",
    "\n",
    "def ansatz_grad_vector_LOCAL(Glist, cU, U, L, perms, flatten=True):\n",
    "    Vs = Glist[:len(perms)]\n",
    "    Ws = Glist[len(perms):]\n",
    "    W = Ws[1]\n",
    "    \n",
    "    U_tilde = applyG_block(Ws[0], L, perms[0]) @ U @ applyG_block(Vs[1], L, perms[1]) @ applyG_block(Vs[0], L, perms[0]) @ cU.conj().T\n",
    "    grad = ansatz_grad(W2, L, U_tilde, perms[1])\n",
    "    grad = grad.conj().T\n",
    "\n",
    "    return antisymm_to_real(\n",
    "        W @  # THIS IS THE FIX??!?!?!\n",
    "        antisymm(W.conj().T @ grad) ) \n",
    "    #return grad"
   ]
  },
  {
   "cell_type": "code",
   "execution_count": null,
   "id": "ec636adf-e84f-48e3-b19f-e37ab43b7893",
   "metadata": {},
   "outputs": [],
   "source": [
    "from utils import antisymm, antisymm_to_real\n",
    "\n",
    "def ansatz_grad_vector_LOCAL(Glist, cU, U, L, perms, flatten=True):\n",
    "    V = Glist[:len(perms)][0]\n",
    "    W = Glist[len(perms):][0]\n",
    "    \n",
    "    grads_V = [] \n",
    "    U_tilde = cU.conj().T\n",
    "    U_tilde = U_tilde @ W\n",
    "    U_tilde = U_tilde @ U\n",
    "    grads_V.append(U_tilde)\n",
    "\n",
    "    grads_W = []\n",
    "    U_tilde = U.conj().T @ V.conj().T @ cU\n",
    "    grads_W.append(U_tilde)\n",
    "    grad = np.stack(grads_V + grads_W)\n",
    "\n",
    "    return np.stack([antisymm_to_real( \n",
    "        Glist[j] @  # THIS IS THE FIX??!?!?!\n",
    "        antisymm(Glist[j].conj().T @ grad[j]) ) for j in range(len(grad))])"
   ]
  }
 ],
 "metadata": {
  "kernelspec": {
   "display_name": "Python3.10 (qc)",
   "language": "python",
   "name": "qc"
  },
  "language_info": {
   "codemirror_mode": {
    "name": "ipython",
    "version": 3
   },
   "file_extension": ".py",
   "mimetype": "text/x-python",
   "name": "python",
   "nbconvert_exporter": "python",
   "pygments_lexer": "ipython3",
   "version": "3.10.13"
  }
 },
 "nbformat": 4,
 "nbformat_minor": 5
}
