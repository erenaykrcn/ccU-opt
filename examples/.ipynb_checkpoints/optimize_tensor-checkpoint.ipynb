{
 "cells": [
  {
   "cell_type": "code",
   "execution_count": 7,
   "id": "07e42158-1cf5-419e-ab46-b6ef546fd18a",
   "metadata": {},
   "outputs": [],
   "source": [
    "import qiskit\n",
    "from qiskit.quantum_info import state_fidelity\n",
    "import numpy as np\n",
    "from numpy import linalg as LA\n",
    "import qib\n",
    "import matplotlib.pyplot as plt\n",
    "import scipy\n",
    "\n",
    "I2 = np.eye(2)\n",
    "X = np.array([[0, 1], [1, 0]])\n",
    "Y = np.array([[0, -1j], [1j, 0]])\n",
    "Z = np.array([[1, 0], [0, -1]])\n",
    "\n",
    "# Random unitary generator\n",
    "def random_unitary(n):\n",
    "    A = np.random.randn(n, n) + 1j * np.random.randn(n, n)\n",
    "    Q, _ = np.linalg.qr(A)\n",
    "    return Q\n",
    "\n",
    "L = 6\n",
    "# construct Hamiltonian\n",
    "latt = qib.lattice.IntegerLattice((L,), pbc=True)\n",
    "field = qib.field.Field(qib.field.ParticleType.QUBIT, latt)\n",
    "#hamil = qib.IsingHamiltonian(field, 1, 0, 0).as_matrix().toarray()\n",
    "hamil = qib.HeisenbergHamiltonian(field, (1,1,1), (0,0,0)).as_matrix().toarray()\n",
    "perms = [[i for i in range(L)], [i for i in range(1, L)]+[0], [i for i in range(L)], [i for i in range(1, L)]+[0]]\n",
    "\n",
    "\n",
    "t = 1\n",
    "U = scipy.linalg.expm(-1j*t*hamil)\n",
    "U_back = scipy.linalg.expm(1j*t*hamil)\n",
    "cU = U_back"
   ]
  },
  {
   "cell_type": "code",
   "execution_count": null,
   "id": "f82a6f57-1df1-43c8-8e80-8a17c38ed453",
   "metadata": {
    "scrolled": true
   },
   "outputs": [
    {
     "name": "stdout",
     "output_type": "stream",
     "text": [
      "Best f:  -19.29661401009928\n",
      "Best err:  1.9985784582522879\n",
      "Best f:  -17.92348147904904\n",
      "Best err:  1.9992583239131294\n",
      "Best f:  -19.686141248072065\n",
      "Best err:  1.998562329494476\n",
      "Best f:  -19.513584040509876\n",
      "Best err:  1.9933700281987883\n"
     ]
    }
   ],
   "source": [
    "import sys\n",
    "sys.path.append(\"../ccU_tensor\")\n",
    "from optimize_tensor import optimize_circuit_tensor\n",
    "\n",
    "\n",
    "Glists = []\n",
    "f_iters = []\n",
    "err_iters = []\n",
    "for _ in range(10):\n",
    "    Glist_start = [random_unitary(4) for _ in range(len(2*perms))]\n",
    "    Glist, f_iter, err_iter = optimize_circuit_tensor(L, U, cU, Glist_start, perms, niter=100)\n",
    "    print(\"Best f: \", f_iter[-1])\n",
    "    print(\"Best err: \", err_iter[-1])\n",
    "    Glists.append(Glist)\n",
    "    f_iters.append(f_iter)\n",
    "    err_iters.append(err_iter)"
   ]
  },
  {
   "cell_type": "code",
   "execution_count": 15,
   "id": "1441d18b-c19f-4941-acfc-05333bb7cb1d",
   "metadata": {},
   "outputs": [],
   "source": []
  },
  {
   "cell_type": "code",
   "execution_count": null,
   "id": "952df440-fe31-464f-9faa-b547cc7d374e",
   "metadata": {},
   "outputs": [],
   "source": []
  },
  {
   "cell_type": "code",
   "execution_count": null,
   "id": "e8a1eebd-41d0-4133-af74-02b7dd8a0221",
   "metadata": {},
   "outputs": [],
   "source": []
  },
  {
   "cell_type": "code",
   "execution_count": null,
   "id": "e6ab254d-900f-4ea3-ba35-e9e4cc8779d1",
   "metadata": {},
   "outputs": [],
   "source": []
  },
  {
   "cell_type": "code",
   "execution_count": null,
   "id": "2d8f519a-3aa3-414d-9e5a-4cd13e856bd3",
   "metadata": {},
   "outputs": [],
   "source": [
    "Glist_start0"
   ]
  },
  {
   "cell_type": "code",
   "execution_count": null,
   "id": "d04cac78-315f-4b2e-a242-0e8f1faea0e1",
   "metadata": {},
   "outputs": [],
   "source": []
  }
 ],
 "metadata": {
  "kernelspec": {
   "display_name": "Python3.10 (qc)",
   "language": "python",
   "name": "qc"
  },
  "language_info": {
   "codemirror_mode": {
    "name": "ipython",
    "version": 3
   },
   "file_extension": ".py",
   "mimetype": "text/x-python",
   "name": "python",
   "nbconvert_exporter": "python",
   "pygments_lexer": "ipython3",
   "version": "3.10.13"
  }
 },
 "nbformat": 4,
 "nbformat_minor": 5
}
