{
 "cells": [
  {
   "cell_type": "code",
   "execution_count": 410,
   "id": "07e42158-1cf5-419e-ab46-b6ef546fd18a",
   "metadata": {},
   "outputs": [],
   "source": [
    "import qiskit\n",
    "from qiskit.quantum_info import state_fidelity\n",
    "import numpy as np\n",
    "from numpy import linalg as LA\n",
    "import qib\n",
    "import matplotlib.pyplot as plt\n",
    "import scipy\n",
    "\n",
    "I = np.eye(2)\n",
    "X = np.array([[0, 1], [1, 0]])\n",
    "Y = np.array([[0, -1j], [1j, 0]])\n",
    "Z = np.array([[1, 0], [0, -1]])\n",
    "\n",
    "# Random unitary generator\n",
    "def random_unitary(n):\n",
    "    A = np.random.randn(n, n) + 1j * np.random.randn(n, n)\n",
    "    Q, _ = np.linalg.qr(A)\n",
    "    return Q\n",
    "\n",
    "\n",
    "def random_anti_herm(n):\n",
    "    A = np.random.randn(n, n) + 1j * np.random.randn(n, n)\n",
    "    return A - A.conj().T\n",
    "\n",
    "L = 6\n",
    "# construct Hamiltonian\n",
    "latt = qib.lattice.IntegerLattice((L,), pbc=True)\n",
    "field = qib.field.Field(qib.field.ParticleType.QUBIT, latt)\n",
    "#hamil = qib.IsingHamiltonian(field, 1, 0, 0).as_matrix().toarray()\n",
    "hamil = qib.HeisenbergHamiltonian(field, (1,1,1), (1,0,1)).as_matrix().toarray()\n",
    "nlayers = 5\n",
    "perms = [[i for i in range(L)] if i%2==0 else [i for i in range(1, L)]+[0] for i in range(nlayers)]\n",
    "\n",
    "t = 10\n",
    "U = scipy.linalg.expm(-1j*t*hamil)\n",
    "U_back = scipy.linalg.expm(1j*t*hamil)\n",
    "cU = U_back"
   ]
  },
  {
   "cell_type": "code",
   "execution_count": 411,
   "id": "56d8cc37-6f17-4acf-b18c-d62a5c08fdeb",
   "metadata": {},
   "outputs": [],
   "source": [
    "\n",
    "def construct_heisenberg_local_term(J, h, ndims=1):\n",
    "    return (  J[0]*np.kron(X, X)\n",
    "            + J[1]*np.kron(Y, Y)\n",
    "            + J[2]*np.kron(Z, Z)\n",
    "            + h[0]*(0.5/ndims)*(np.kron(X, I) + np.kron(I, X))\n",
    "            + h[1]*(0.5/ndims)*(np.kron(Y, I) + np.kron(I, Y))\n",
    "            + h[2]*(0.5/ndims)*(np.kron(Z, I) + np.kron(I, Z)))\n",
    "\n",
    "\n",
    "def bootstrap_U(Glist, U, perms):    \n",
    "    Vlist = Glist[:len(perms)]\n",
    "    Wlist = Glist[len(perms):]\n",
    "\n",
    "    V = applyG_block(Vlist[0], L, perms[0])\n",
    "    for i in range(1, len(perms)):\n",
    "        V = applyG_block(Vlist[i], L, perms[i]) @ V\n",
    "\n",
    "    W = applyG_block(Wlist[0], L, perms[0])\n",
    "    for i in range(1, len(perms)):\n",
    "        W = applyG_block(Wlist[i], L, perms[i]) @ W\n",
    "\n",
    "    return W@U@V, V, W"
   ]
  },
  {
   "cell_type": "code",
   "execution_count": null,
   "id": "f82a6f57-1df1-43c8-8e80-8a17c38ed453",
   "metadata": {
    "scrolled": true
   },
   "outputs": [],
   "source": [
    "import sys\n",
    "sys.path.append(\"../ccU_tensor\")\n",
    "from optimize_tensor import optimize_circuit_tensor, err_tensor\n",
    "from ansatz_tensor import ansatz_tensor\n",
    "\n",
    "sys.path.append(\"../ccU\")\n",
    "from utils import applyG_block\n",
    "\n",
    "hloc = construct_heisenberg_local_term((1,1,1), (1,0,1))\n",
    "\n",
    "Glists = []\n",
    "f_iters = []\n",
    "err_iters = []\n",
    "for _ in range(10):\n",
    "    #Glist_start = list(Glist_perms3_best_L4)\n",
    "    #Glist_start = [np.eye(4) for _ in range(len(2*perms_insert))]\n",
    "    #perms_insert = [[i for i in range(1, L)]+[0], [i for i in range(L)]]\n",
    "    #U_boot = bootstrap_U(Glist_perms3_best_L4, U, perms)\n",
    "    Glist_start = [random_unitary(4) for _ in range(len(2*perms))]\n",
    "    \n",
    "    #eps = 1e-2\n",
    "    #Glist_Trotter = 2*[scipy.linalg.expm(1j*0.01*hloc) for i in range(len(perms))]\n",
    "    #Glist_start = [Glist_Trotter[_] @ scipy.linalg.expm(random_anti_herm(4)*eps) for _ in range(len(2*perms))]\n",
    "    \n",
    "    Glist, f_iter, err_iter = optimize_circuit_tensor(L, U, cU, Glist_start, perms, niter=20)\n",
    "    \n",
    "    print(\"Best f: \", f_iter[-1])\n",
    "    print(\"Best err: \", err_iter[-1])\n",
    "\n",
    "    Glists.append(Glist)\n",
    "    f_iters.append(f_iter)\n",
    "    err_iters.append(err_iter)"
   ]
  },
  {
   "cell_type": "code",
   "execution_count": null,
   "id": "516dbb4a-ff74-4d0d-ab2c-fd82bcc98d4a",
   "metadata": {},
   "outputs": [],
   "source": []
  },
  {
   "cell_type": "code",
   "execution_count": null,
   "id": "97c1208b-c368-486b-bd64-ae5eddd4d765",
   "metadata": {},
   "outputs": [],
   "source": []
  },
  {
   "cell_type": "code",
   "execution_count": null,
   "id": "0f2b2082-e8fa-428e-8905-2ab2391f6d6e",
   "metadata": {},
   "outputs": [],
   "source": []
  },
  {
   "cell_type": "code",
   "execution_count": null,
   "id": "0451170a-455f-4fb0-a5a9-41c8e70a09a5",
   "metadata": {},
   "outputs": [],
   "source": []
  },
  {
   "cell_type": "code",
   "execution_count": null,
   "id": "0512ee85-2317-4b4a-8b2a-81d385a0b8ab",
   "metadata": {},
   "outputs": [],
   "source": []
  },
  {
   "cell_type": "code",
   "execution_count": null,
   "id": "a23c211c-a692-4ac9-94d0-09917ad5d30a",
   "metadata": {},
   "outputs": [],
   "source": []
  },
  {
   "cell_type": "code",
   "execution_count": 317,
   "id": "1441d18b-c19f-4941-acfc-05333bb7cb1d",
   "metadata": {},
   "outputs": [],
   "source": [
    "import h5py\n",
    "\n",
    "with h5py.File(f\"../results_data/Heisenberg1d_L{L}_t{t}_layers{len(perms)}_err{round(err_iters[1][-1], 2)}.hdf5\", \"w\") as f:\n",
    "    f.create_dataset(\"Glist\", data=Glists[1])\n",
    "    f.create_dataset(\"f_iter\", data=f_iters[1])"
   ]
  },
  {
   "cell_type": "code",
   "execution_count": 196,
   "id": "952df440-fe31-464f-9faa-b547cc7d374e",
   "metadata": {},
   "outputs": [],
   "source": [
    "Glist_perms3_best_L4 = None\n",
    "with h5py.File(f\"../results_data/Heisenberg1d_L4_t1_layers3_err0.0.hdf5\", \"r\") as f:\n",
    "    Glist_perms3_best_L4 = f[\"Glist\"][:]"
   ]
  },
  {
   "cell_type": "code",
   "execution_count": null,
   "id": "e8a1eebd-41d0-4133-af74-02b7dd8a0221",
   "metadata": {},
   "outputs": [],
   "source": []
  },
  {
   "cell_type": "code",
   "execution_count": null,
   "id": "e6ab254d-900f-4ea3-ba35-e9e4cc8779d1",
   "metadata": {},
   "outputs": [],
   "source": []
  },
  {
   "cell_type": "code",
   "execution_count": null,
   "id": "2d8f519a-3aa3-414d-9e5a-4cd13e856bd3",
   "metadata": {},
   "outputs": [],
   "source": []
  },
  {
   "cell_type": "code",
   "execution_count": null,
   "id": "d04cac78-315f-4b2e-a242-0e8f1faea0e1",
   "metadata": {},
   "outputs": [],
   "source": []
  }
 ],
 "metadata": {
  "kernelspec": {
   "display_name": "Python3.10 (qc)",
   "language": "python",
   "name": "qc"
  },
  "language_info": {
   "codemirror_mode": {
    "name": "ipython",
    "version": 3
   },
   "file_extension": ".py",
   "mimetype": "text/x-python",
   "name": "python",
   "nbconvert_exporter": "python",
   "pygments_lexer": "ipython3",
   "version": "3.10.13"
  }
 },
 "nbformat": 4,
 "nbformat_minor": 5
}
