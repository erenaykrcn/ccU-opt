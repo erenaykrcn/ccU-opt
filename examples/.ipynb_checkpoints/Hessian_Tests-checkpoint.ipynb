{
 "cells": [
  {
   "cell_type": "code",
   "execution_count": 234,
   "id": "4c2506bf-cde1-4646-8fd8-3f2aa9d38161",
   "metadata": {},
   "outputs": [],
   "source": [
    "import qiskit\n",
    "from qiskit.quantum_info import state_fidelity\n",
    "import numpy as np\n",
    "from numpy import linalg as LA\n",
    "import qib\n",
    "import matplotlib.pyplot as plt\n",
    "import scipy\n",
    "\n",
    "I2 = np.eye(2)\n",
    "X = np.array([[0, 1], [1, 0]])\n",
    "Y = np.array([[0, -1j], [1j, 0]])\n",
    "Z = np.array([[1, 0], [0, -1]])\n",
    "\n",
    "# Random unitary generator\n",
    "def random_unitary(n):\n",
    "    A = np.random.randn(n, n) + 1j * np.random.randn(n, n)\n",
    "    Q, _ = np.linalg.qr(A)\n",
    "    return Q\n",
    "\n",
    "L = 6\n",
    "# construct Hamiltonian\n",
    "latt = qib.lattice.IntegerLattice((L,), pbc=True)\n",
    "field = qib.field.Field(qib.field.ParticleType.QUBIT, latt)\n",
    "#hamil = qib.IsingHamiltonian(field, 1, 0, 0).as_matrix().toarray()\n",
    "hamil = qib.HeisenbergHamiltonian(field, (1,1,1), (0,0,0)).as_matrix().toarray()\n",
    "perms = [[i for i in range(L)], [i for i in range(1, L)]+[0], [i for i in range(L)]]\n",
    "#perms = [[i for i in range(L)]]\n",
    "\n",
    "t = 10\n",
    "U = scipy.linalg.expm(-1j*t*hamil)\n",
    "U_back = scipy.linalg.expm(1j*t*hamil)\n",
    "cU = U_back"
   ]
  },
  {
   "cell_type": "code",
   "execution_count": 238,
   "id": "8e8c4b4c-70b3-4ead-8dde-0f2e75427f60",
   "metadata": {},
   "outputs": [
    {
     "name": "stdout",
     "output_type": "stream",
     "text": [
      "Difference norm: 2.0607029030273427e-09\n"
     ]
    }
   ],
   "source": [
    "# Numerical Test function for: d/G_j d/dG_i f(G)\n",
    "import sys\n",
    "sys.path.append(\"../ccU\")\n",
    "from utils import polar_decomp, project_unitary_tangent, real_to_antisymm, antisymm_to_real, antisymm\n",
    "\n",
    "\n",
    "def numerical_hessian(Glist, cU, U, L, perms, i, j, epsilon=1e-6):\n",
    "    \"\"\"Numerically compute d/dW1 of projected gradient dL/dV1 (Riemannian).\"\"\"\n",
    "    numerical_H = []\n",
    "\n",
    "    for _ in range(16):\n",
    "        Z_real = np.zeros(16)\n",
    "        Z_real[_] = 1.0\n",
    "        Z = real_to_antisymm(Z_real.reshape(4, 4))  # 4x4 anti-Hermitian direction\n",
    "\n",
    "        Gj_plus  = Glist[j] @ scipy.linalg.expm(+epsilon*Z)\n",
    "        Gj_minus = Glist[j] @ scipy.linalg.expm(-epsilon*Z)\n",
    "\n",
    "    \n",
    "        if i==j:\n",
    "            grad_plus  = ansatz_grad_vector(Glist[:j]+[Gj_plus]+Glist[j+1:], cU, U, L, perms, unprojected=True, flatten=False)[i]\n",
    "            grad_minus = ansatz_grad_vector(Glist[:j]+[Gj_minus]+Glist[j+1:], cU, U, L, perms, unprojected=True, flatten=False)[i]\n",
    "            dgrad = (grad_plus - grad_minus) / (2 * epsilon)  # shape (16,)\n",
    "            G = dgrad.reshape(4, 4)\n",
    "\n",
    "            V = Glist[j]\n",
    "            Z = V @ Z\n",
    "            G = project_unitary_tangent(V, G)\n",
    "            grad = ansatz_grad_vector(Glist, cU, U, L, perms, flatten=False, unprojected=True)[i]\n",
    "            G -= 0.5 * (Z @ grad.conj().T @ V + V @ grad.conj().T @ Z)\n",
    "            if not np.allclose(Z, project_unitary_tangent(V, Z)):\n",
    "                G -= 0.5 * (Z @ V.conj().T + V @ Z.conj().T) @ grad\n",
    "            G = antisymm_to_real(antisymm( V.conj().T @ G ))\n",
    "        else:\n",
    "            grad_plus  = ansatz_grad_vector(Glist[:j]+[Gj_plus]+Glist[j+1:], cU, U, L, perms, unprojected=False, flatten=False)[i]\n",
    "            grad_minus = ansatz_grad_vector(Glist[:j]+[Gj_minus]+Glist[j+1:], cU, U, L, perms, unprojected=False, flatten=False)[i]\n",
    "            dgrad = (grad_plus - grad_minus) / (2 * epsilon)  # shape (16,)\n",
    "            G = dgrad.reshape(4, 4)\n",
    "            \n",
    "        numerical_H.append(G)\n",
    "    \n",
    "    return np.array(numerical_H)  # shape: (16, 4, 4)\n",
    "\n",
    "\n",
    "i, j = 0,0\n",
    "Glist = [random_unitary(4) for _ in range(2 * len(perms))]\n",
    "H = ansatz_hessian_matrix(Glist, cU, U, L, perms, unprojected=False, flatten=False)\n",
    "grad = []\n",
    "for _ in range(16):\n",
    "    grad.append(H[i, :, j, _].reshape(4,4))\n",
    "analytical = np.array(grad)\n",
    "\n",
    "numerical = numerical_hessian(Glist, cU, U, L, perms, i, j)\n",
    "\n",
    "#print(\"Numerical 4x4 matrix:\\n\", numerical[0])\n",
    "#print(\"Analytical 4x4 matrix:\\n\", analytical[0])\n",
    "print(\"Difference norm:\", np.linalg.norm(numerical - analytical))"
   ]
  },
  {
   "cell_type": "code",
   "execution_count": 227,
   "id": "281c5308-cb51-4eab-93c2-90946395b076",
   "metadata": {},
   "outputs": [],
   "source": []
  },
  {
   "cell_type": "code",
   "execution_count": null,
   "id": "b107d8d2-a8ee-496b-821b-706fad4990f5",
   "metadata": {},
   "outputs": [],
   "source": []
  },
  {
   "cell_type": "code",
   "execution_count": null,
   "id": "d22b990a-8f77-4eaa-bd56-860d624a4714",
   "metadata": {},
   "outputs": [],
   "source": []
  },
  {
   "cell_type": "code",
   "execution_count": null,
   "id": "cd73f237-9bd2-4ae7-8312-d08b6381fe08",
   "metadata": {},
   "outputs": [],
   "source": []
  },
  {
   "cell_type": "code",
   "execution_count": null,
   "id": "bf0fda54-48ca-43a2-918b-a7318ac0a74d",
   "metadata": {},
   "outputs": [],
   "source": []
  },
  {
   "cell_type": "code",
   "execution_count": null,
   "id": "626317e3-0b3f-44cc-bffc-4257d73d4f33",
   "metadata": {},
   "outputs": [],
   "source": []
  },
  {
   "cell_type": "code",
   "execution_count": null,
   "id": "8ad86fac-b424-4c92-bf74-6c444efc7a41",
   "metadata": {},
   "outputs": [],
   "source": []
  }
 ],
 "metadata": {
  "kernelspec": {
   "display_name": "Python3.10 (qc)",
   "language": "python",
   "name": "qc"
  },
  "language_info": {
   "codemirror_mode": {
    "name": "ipython",
    "version": 3
   },
   "file_extension": ".py",
   "mimetype": "text/x-python",
   "name": "python",
   "nbconvert_exporter": "python",
   "pygments_lexer": "ipython3",
   "version": "3.10.13"
  }
 },
 "nbformat": 4,
 "nbformat_minor": 5
}
