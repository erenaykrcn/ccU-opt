{
 "cells": [
  {
   "cell_type": "code",
   "execution_count": 4,
   "id": "74c52ccf-dbc6-4e87-9233-48a9cd4487f3",
   "metadata": {},
   "outputs": [
    {
     "name": "stdout",
     "output_type": "stream",
     "text": [
      "Ground State Energy -4.0\n"
     ]
    }
   ],
   "source": [
    "from rqcopt import brickwall_unitary_hessian_matrix, brickwall_unitary_gradient_vector, brickwall_unitary\n",
    "import qiskit\n",
    "from qiskit.quantum_info import state_fidelity\n",
    "import numpy as np\n",
    "from numpy import linalg as LA\n",
    "import qib\n",
    "import matplotlib.pyplot as plt\n",
    "\n",
    "\n",
    "# Parameters for the Ising Hamiltonian\n",
    "# L has to be even! Due to K only being able to control even Ls!\n",
    "L = 4\n",
    "\n",
    "# construct Hamiltonian\n",
    "latt = qib.lattice.IntegerLattice((L,), pbc=True)\n",
    "field = qib.field.Field(qib.field.ParticleType.QUBIT, latt)\n",
    "hamil = qib.IsingHamiltonian(field, 1, 0, 0).as_matrix().toarray()\n",
    "#hamil = qib.HeisenbergHamiltonian(field, (1,1,1), (0,0,0)).as_matrix().toarray()\n",
    "perms = [[i for i in range(L)], [i for i in range(1, L)]+[0]]\n",
    "\n",
    "eigenvalues, eigenvectors = LA.eig(hamil)\n",
    "idx = eigenvalues.argsort()\n",
    "eigenvalues_sort = eigenvalues[idx]\n",
    "eigenvectors_sort = eigenvectors[:,idx]\n",
    "ground_state = eigenvectors_sort[:, 0]\n",
    "print(\"Ground State Energy\", -eigenvalues_sort[-1].real)"
   ]
  },
  {
   "cell_type": "code",
   "execution_count": 7,
   "id": "b9b5ff73-a399-460f-8cf9-47768717f1a4",
   "metadata": {},
   "outputs": [],
   "source": [
    "def construct_ising_local_term(J, g):\n",
    "    \"\"\"\n",
    "    Construct local interaction term of Ising Hamiltonian on a one-dimensional\n",
    "    lattice for interaction parameter `J` and external field parameter `g`.\n",
    "    \"\"\"\n",
    "    # Pauli-X and Z matrices\n",
    "    X = np.array([[0.,  1.], [1.,  0.]])\n",
    "    Z = np.array([[1.,  0.], [0., -1.]])\n",
    "    I = np.identity(2)\n",
    "    return J*np.kron(Z, Z) + g*0.5*(np.kron(X, I) + np.kron(I, X))"
   ]
  },
  {
   "cell_type": "code",
   "execution_count": 13,
   "id": "e4182f31-0b87-4c8f-ba28-b0cf931aaac5",
   "metadata": {},
   "outputs": [
    {
     "data": {
      "text/plain": [
       "2.482534153247273e-16"
      ]
     },
     "execution_count": 13,
     "metadata": {},
     "output_type": "execute_result"
    }
   ],
   "source": [
    "import scipy\n",
    "U = scipy.linalg.expm(-1j * hamil)\n",
    "hloc = construct_ising_local_term(1, 0)\n",
    "Vlist = [scipy.linalg.expm(-1j*hloc) for c in [0, 1]]\n",
    "np.linalg.norm(U - brickwall_unitary(Vlist, L, perms), ord=2)"
   ]
  },
  {
   "cell_type": "code",
   "execution_count": 14,
   "id": "7f54b359-2b2a-4ab6-8f1d-2aa43680ddea",
   "metadata": {},
   "outputs": [
    {
     "data": {
      "text/plain": [
       "1.7316902782981841e-15"
      ]
     },
     "execution_count": 14,
     "metadata": {},
     "output_type": "execute_result"
    }
   ],
   "source": [
    "np.linalg.norm(brickwall_unitary_gradient_vector(Vlist, L, U, perms), ord=2)"
   ]
  },
  {
   "cell_type": "code",
   "execution_count": 17,
   "id": "4d2d1d27-bcea-4981-99f3-d53ec7a79c17",
   "metadata": {},
   "outputs": [],
   "source": [
    "hess = brickwall_unitary_hessian_matrix(Vlist, L, U, perms)"
   ]
  },
  {
   "cell_type": "code",
   "execution_count": 20,
   "id": "cb61995c-52e9-46b3-910d-7db330b05d81",
   "metadata": {},
   "outputs": [
    {
     "data": {
      "text/plain": [
       "False"
      ]
     },
     "execution_count": 20,
     "metadata": {},
     "output_type": "execute_result"
    }
   ],
   "source": [
    "np.all(np.linalg.eigvals(hess) >= 1e-1)"
   ]
  },
  {
   "cell_type": "code",
   "execution_count": null,
   "id": "cfc9ddb2-3cb5-460c-ae03-fa1690a181bf",
   "metadata": {},
   "outputs": [],
   "source": []
  }
 ],
 "metadata": {
  "kernelspec": {
   "display_name": "Python3.10 (qc)",
   "language": "python",
   "name": "qc"
  },
  "language_info": {
   "codemirror_mode": {
    "name": "ipython",
    "version": 3
   },
   "file_extension": ".py",
   "mimetype": "text/x-python",
   "name": "python",
   "nbconvert_exporter": "python",
   "pygments_lexer": "ipython3",
   "version": "3.10.13"
  }
 },
 "nbformat": 4,
 "nbformat_minor": 5
}
