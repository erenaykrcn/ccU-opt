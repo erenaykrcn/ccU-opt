{
 "cells": [
  {
   "cell_type": "code",
   "execution_count": 113,
   "id": "4c2506bf-cde1-4646-8fd8-3f2aa9d38161",
   "metadata": {},
   "outputs": [],
   "source": [
    "import qiskit\n",
    "from qiskit.quantum_info import state_fidelity\n",
    "import numpy as np\n",
    "from numpy import linalg as LA\n",
    "import qib\n",
    "import matplotlib.pyplot as plt\n",
    "import scipy\n",
    "\n",
    "I2 = np.eye(2)\n",
    "X = np.array([[0, 1], [1, 0]])\n",
    "Y = np.array([[0, -1j], [1j, 0]])\n",
    "Z = np.array([[1, 0], [0, -1]])\n",
    "\n",
    "# Random unitary generator\n",
    "def random_unitary(n):\n",
    "    A = np.random.randn(n, n) + 1j * np.random.randn(n, n)\n",
    "    Q, _ = np.linalg.qr(A)\n",
    "    return Q\n",
    "\n",
    "L = 4\n",
    "# construct Hamiltonian\n",
    "latt = qib.lattice.IntegerLattice((L,), pbc=True)\n",
    "field = qib.field.Field(qib.field.ParticleType.QUBIT, latt)\n",
    "#hamil = qib.IsingHamiltonian(field, 1, 0, 0).as_matrix().toarray()\n",
    "hamil = qib.HeisenbergHamiltonian(field, (1,1,1), (0,0,0)).as_matrix().toarray()\n",
    "perms = [[i for i in range(L)], [i for i in range(1, L)]+[0], [i for i in range(L)]]\n",
    "U = scipy.linalg.expm(-1j*hamil)\n",
    "U_back = scipy.linalg.expm(1j*hamil)\n",
    "cU = U_back"
   ]
  },
  {
   "cell_type": "code",
   "execution_count": 102,
   "id": "8e8c4b4c-70b3-4ead-8dde-0f2e75427f60",
   "metadata": {},
   "outputs": [],
   "source": [
    "# Numerical Test function for: d/G_j d/dG_i f(G)\n",
    "from utils import polar_decomp, project_unitary_tangent, real_to_antisymm, antisymm_to_real, antisymm\n",
    "\n",
    "\n",
    "def numerical_hessian(Glist, cU, U, L, perms, i, j, epsilon=1e-6):\n",
    "    \"\"\"Numerically compute d/dW1 of projected gradient dL/dV1 (Riemannian).\"\"\"\n",
    "    numerical_H = []\n",
    "\n",
    "    for _ in range(16):\n",
    "        # Create unit vector in 16D real tangent space\n",
    "        Z_real = np.zeros(16)\n",
    "        Z_real[_] = 1.0\n",
    "        Z = real_to_antisymm(Z_real.reshape(4, 4))  # 4x4 anti-Hermitian direction\n",
    "\n",
    "        # Perturb G_j on the manifold\n",
    "        #Gj_plus  = Glist[j] + epsilon * Glist[j] @ Z\n",
    "        #Gj_minus = Glist[j] - epsilon * Glist[j] @ Z\n",
    "        Gj_plus  = Glist[j] @ scipy.linalg.expm(+epsilon*Z)\n",
    "        Gj_minus = Glist[j] @ scipy.linalg.expm(-epsilon*Z)\n",
    "\n",
    "    \n",
    "        if i==j:\n",
    "            grad_plus  = ansatz_grad_vector(Glist[:j]+[Gj_plus]+Glist[j+1:], cU, U, L, perms, unprojected=True, flatten=False)[i]\n",
    "            grad_minus = ansatz_grad_vector(Glist[:j]+[Gj_minus]+Glist[j+1:], cU, U, L, perms, unprojected=True, flatten=False)[i]\n",
    "            dgrad = (grad_plus - grad_minus) / (2 * epsilon)  # shape (16,)\n",
    "            G = dgrad.reshape(4, 4)\n",
    "\n",
    "            # TODO: Is this projection correct?\n",
    "            V = Glist[j]\n",
    "            Z = V @ Z\n",
    "            G = project_unitary_tangent(V, G)\n",
    "            grad = ansatz_grad_vector(Glist, cU, U, L, perms, flatten=False, unprojected=True)[i]\n",
    "            G -= 0.5 * (Z @ grad.conj().T @ V + V @ grad.conj().T @ Z)\n",
    "            if not np.allclose(Z, project_unitary_tangent(V, Z)):\n",
    "                G -= 0.5 * (Z @ V.conj().T + V @ Z.conj().T) @ grad\n",
    "            G = antisymm_to_real(antisymm( V.conj().T @ G ))\n",
    "        else:\n",
    "            grad_plus  = ansatz_grad_vector(Glist[:j]+[Gj_plus]+Glist[j+1:], cU, U, L, perms, unprojected=False, flatten=False)[i]\n",
    "            grad_minus = ansatz_grad_vector(Glist[:j]+[Gj_minus]+Glist[j+1:], cU, U, L, perms, unprojected=False, flatten=False)[i]\n",
    "            dgrad = (grad_plus - grad_minus) / (2 * epsilon)  # shape (16,)\n",
    "            G = dgrad.reshape(4, 4)\n",
    "            \n",
    "        numerical_H.append(G)\n",
    "    \n",
    "    return np.array(numerical_H)  # shape: (16, 4, 4)\n",
    "\n",
    "\n",
    "i, j = 1,3\n",
    "Glist = [random_unitary(4) for _ in range(2 * len(perms))]\n",
    "H = ansatz_hessian_matrix(Glist, cU, U, L, perms, unprojected=False, flatten=False)\n",
    "grad = []\n",
    "for _ in range(16):\n",
    "    grad.append(H[i, :, j, _].reshape(4,4))\n",
    "analytical = np.array(grad)\n",
    "\n",
    "numerical = numerical_hessian(Glist, cU, U, L, perms, i, j)\n",
    "\n",
    "#print(\"Numerical 4x4 matrix:\\n\", numerical[0])\n",
    "#print(\"Analytical 4x4 matrix:\\n\", analytical[0])\n",
    "print(\"Difference norm:\", np.linalg.norm(numerical - analytical))"
   ]
  },
  {
   "cell_type": "code",
   "execution_count": 157,
   "id": "e2ae8b47-fb9e-45d0-851c-0f861eb9d47f",
   "metadata": {
    "scrolled": true
   },
   "outputs": [
    {
     "name": "stdout",
     "output_type": "stream",
     "text": [
      "Best f:  -14.259551355751015\n",
      "Best err:  1.0859089320015611\n",
      "Best f:  -16.000000000000085\n",
      "Best err:  1.5979074538494783e-09\n"
     ]
    },
    {
     "ename": "KeyboardInterrupt",
     "evalue": "",
     "output_type": "error",
     "traceback": [
      "\u001b[0;31m---------------------------------------------------------------------------\u001b[0m",
      "\u001b[0;31mKeyboardInterrupt\u001b[0m                         Traceback (most recent call last)",
      "Cell \u001b[0;32mIn[157], line 9\u001b[0m\n\u001b[1;32m      7\u001b[0m Glist_start \u001b[38;5;241m=\u001b[39m \u001b[38;5;241m2\u001b[39m\u001b[38;5;241m*\u001b[39m[random_unitary(\u001b[38;5;241m4\u001b[39m) \u001b[38;5;28;01mfor\u001b[39;00m _ \u001b[38;5;129;01min\u001b[39;00m \u001b[38;5;28mrange\u001b[39m(\u001b[38;5;28mlen\u001b[39m(perms))]\n\u001b[1;32m      8\u001b[0m \u001b[38;5;66;03m#Glist_start = Glist_opt_L2\u001b[39;00m\n\u001b[0;32m----> 9\u001b[0m Glist, f_iter, err_iter \u001b[38;5;241m=\u001b[39m \u001b[43moptimize_circuit\u001b[49m\u001b[43m(\u001b[49m\u001b[43mL\u001b[49m\u001b[43m,\u001b[49m\u001b[43m \u001b[49m\u001b[43mU\u001b[49m\u001b[43m,\u001b[49m\u001b[43m \u001b[49m\u001b[43mcU\u001b[49m\u001b[43m,\u001b[49m\u001b[43m \u001b[49m\u001b[43mGlist_start\u001b[49m\u001b[43m,\u001b[49m\u001b[43m \u001b[49m\u001b[43mperms\u001b[49m\u001b[43m,\u001b[49m\u001b[43m \u001b[49m\u001b[43mniter\u001b[49m\u001b[38;5;241;43m=\u001b[39;49m\u001b[38;5;241;43m90\u001b[39;49m\u001b[43m)\u001b[49m\n\u001b[1;32m     10\u001b[0m \u001b[38;5;28mprint\u001b[39m(\u001b[38;5;124m\"\u001b[39m\u001b[38;5;124mBest f: \u001b[39m\u001b[38;5;124m\"\u001b[39m, f_iter[\u001b[38;5;241m-\u001b[39m\u001b[38;5;241m1\u001b[39m])\n\u001b[1;32m     11\u001b[0m \u001b[38;5;28mprint\u001b[39m(\u001b[38;5;124m\"\u001b[39m\u001b[38;5;124mBest err: \u001b[39m\u001b[38;5;124m\"\u001b[39m, err_iter[\u001b[38;5;241m-\u001b[39m\u001b[38;5;241m1\u001b[39m])\n",
      "File \u001b[0;32m~/Desktop/QC/ccU-opt/examples/../2qubit-ccU/optimize.py:27\u001b[0m, in \u001b[0;36moptimize_circuit\u001b[0;34m(L, U, cU, Glist_start, perms, **kwargs)\u001b[0m\n\u001b[1;32m     25\u001b[0m kwargs[\u001b[38;5;124m\"\u001b[39m\u001b[38;5;124mgfunc\u001b[39m\u001b[38;5;124m\"\u001b[39m] \u001b[38;5;241m=\u001b[39m errfunc\n\u001b[1;32m     26\u001b[0m \u001b[38;5;66;03m# perform optimization\u001b[39;00m\n\u001b[0;32m---> 27\u001b[0m Glist, f_iter, err_iter \u001b[38;5;241m=\u001b[39m \u001b[43mriemannian_trust_region_optimize\u001b[49m\u001b[43m(\u001b[49m\n\u001b[1;32m     28\u001b[0m \u001b[43m    \u001b[49m\u001b[43mf\u001b[49m\u001b[43m,\u001b[49m\u001b[43m \u001b[49m\u001b[43mretract_unitary_list\u001b[49m\u001b[43m,\u001b[49m\u001b[43m \u001b[49m\u001b[43mgradfunc\u001b[49m\u001b[43m,\u001b[49m\u001b[43m \u001b[49m\u001b[43mhessfunc\u001b[49m\u001b[43m,\u001b[49m\u001b[43m \u001b[49m\u001b[43mnp\u001b[49m\u001b[38;5;241;43m.\u001b[39;49m\u001b[43mstack\u001b[49m\u001b[43m(\u001b[49m\u001b[43mGlist_start\u001b[49m\u001b[43m)\u001b[49m\u001b[43m,\u001b[49m\u001b[43m \u001b[49m\u001b[38;5;241;43m*\u001b[39;49m\u001b[38;5;241;43m*\u001b[39;49m\u001b[43mkwargs\u001b[49m\u001b[43m)\u001b[49m\n\u001b[1;32m     29\u001b[0m \u001b[38;5;28;01mreturn\u001b[39;00m Glist, f_iter, err_iter\n",
      "File \u001b[0;32m/opt/anaconda3/envs/qc/lib/python3.10/site-packages/rqcopt/trust_region.py:34\u001b[0m, in \u001b[0;36mriemannian_trust_region_optimize\u001b[0;34m(f, retract, gradfunc, hessfunc, x_init, **kwargs)\u001b[0m\n\u001b[1;32m     32\u001b[0m \u001b[38;5;28;01mfor\u001b[39;00m k \u001b[38;5;129;01min\u001b[39;00m \u001b[38;5;28mrange\u001b[39m(niter):\n\u001b[1;32m     33\u001b[0m     grad \u001b[38;5;241m=\u001b[39m gradfunc(x)\n\u001b[0;32m---> 34\u001b[0m     hess \u001b[38;5;241m=\u001b[39m \u001b[43mhessfunc\u001b[49m\u001b[43m(\u001b[49m\u001b[43mx\u001b[49m\u001b[43m)\u001b[49m\n\u001b[1;32m     35\u001b[0m     eta, on_boundary \u001b[38;5;241m=\u001b[39m truncated_cg(grad, hess, radius, \u001b[38;5;241m*\u001b[39m\u001b[38;5;241m*\u001b[39mtcg_kwargs)\n\u001b[1;32m     36\u001b[0m     x_next \u001b[38;5;241m=\u001b[39m retract(x, eta)\n",
      "File \u001b[0;32m~/Desktop/QC/ccU-opt/examples/../2qubit-ccU/optimize.py:21\u001b[0m, in \u001b[0;36moptimize_circuit.<locals>.<lambda>\u001b[0;34m(glist)\u001b[0m\n\u001b[1;32m     19\u001b[0m f \u001b[38;5;241m=\u001b[39m \u001b[38;5;28;01mlambda\u001b[39;00m glist: err(glist, U, L, perms, cU)\n\u001b[1;32m     20\u001b[0m gradfunc \u001b[38;5;241m=\u001b[39m \u001b[38;5;28;01mlambda\u001b[39;00m glist: \u001b[38;5;241m-\u001b[39mansatz_grad_vector(glist, cU, U, L, perms)\n\u001b[0;32m---> 21\u001b[0m hessfunc \u001b[38;5;241m=\u001b[39m \u001b[38;5;28;01mlambda\u001b[39;00m glist: \u001b[38;5;241m-\u001b[39m\u001b[43mansatz_hessian_matrix\u001b[49m\u001b[43m(\u001b[49m\u001b[43mglist\u001b[49m\u001b[43m,\u001b[49m\u001b[43m \u001b[49m\u001b[43mcU\u001b[49m\u001b[43m,\u001b[49m\u001b[43m \u001b[49m\u001b[43mU\u001b[49m\u001b[43m,\u001b[49m\u001b[43m \u001b[49m\u001b[43mL\u001b[49m\u001b[43m,\u001b[49m\u001b[43m \u001b[49m\u001b[43mperms\u001b[49m\u001b[43m)\u001b[49m\n\u001b[1;32m     23\u001b[0m \u001b[38;5;66;03m# quantify error by spectral norm\u001b[39;00m\n\u001b[1;32m     24\u001b[0m errfunc \u001b[38;5;241m=\u001b[39m \u001b[38;5;28;01mlambda\u001b[39;00m glist: np\u001b[38;5;241m.\u001b[39mlinalg\u001b[38;5;241m.\u001b[39mnorm(ansatz(glist, U, L, perms) \u001b[38;5;241m-\u001b[39m cU, \u001b[38;5;28mord\u001b[39m\u001b[38;5;241m=\u001b[39m\u001b[38;5;241m2\u001b[39m)\n",
      "File \u001b[0;32m~/Desktop/QC/ccU-opt/examples/../2qubit-ccU/hessian.py:300\u001b[0m, in \u001b[0;36mansatz_hessian_matrix\u001b[0;34m(Glist, cU, U, L, perms, flatten, unprojected)\u001b[0m\n\u001b[1;32m    297\u001b[0m \tZ[j] \u001b[38;5;241m=\u001b[39m \u001b[38;5;241m1\u001b[39m\n\u001b[1;32m    298\u001b[0m \tZ \u001b[38;5;241m=\u001b[39m real_to_antisymm(np\u001b[38;5;241m.\u001b[39mreshape(Z, (\u001b[38;5;241m4\u001b[39m, \u001b[38;5;241m4\u001b[39m)))\n\u001b[0;32m--> 300\u001b[0m dWZj \u001b[38;5;241m=\u001b[39m \u001b[43mansatz_hess_W\u001b[49m\u001b[43m(\u001b[49m\u001b[43mVlist\u001b[49m\u001b[43m,\u001b[49m\u001b[43m \u001b[49m\u001b[43mWlist\u001b[49m\u001b[43m,\u001b[49m\u001b[43m \u001b[49m\u001b[43mL\u001b[49m\u001b[43m,\u001b[49m\u001b[43m \u001b[49m\u001b[43mWlist\u001b[49m\u001b[43m[\u001b[49m\u001b[43mk\u001b[49m\u001b[43m]\u001b[49m\u001b[43m \u001b[49m\u001b[38;5;241;43m@\u001b[39;49m\u001b[43m \u001b[49m\u001b[43mZ\u001b[49m\u001b[43m,\u001b[49m\u001b[43m \u001b[49m\u001b[43mk\u001b[49m\u001b[43m,\u001b[49m\u001b[43m \u001b[49m\u001b[43mcU\u001b[49m\u001b[43m,\u001b[49m\u001b[43m \u001b[49m\u001b[43mU\u001b[49m\u001b[43m,\u001b[49m\u001b[43m \u001b[49m\u001b[43mperms\u001b[49m\u001b[43m,\u001b[49m\u001b[43m \u001b[49m\u001b[43munprojected\u001b[49m\u001b[38;5;241;43m=\u001b[39;49m\u001b[43munprojected\u001b[49m\u001b[43m)\u001b[49m\n\u001b[1;32m    301\u001b[0m \u001b[38;5;28;01mfor\u001b[39;00m i \u001b[38;5;129;01min\u001b[39;00m \u001b[38;5;28mrange\u001b[39m(\u001b[38;5;241m2\u001b[39m\u001b[38;5;241m*\u001b[39meta):\n\u001b[1;32m    302\u001b[0m \tHess[i, :, eta\u001b[38;5;241m+\u001b[39mk, j] \u001b[38;5;241m=\u001b[39m dWZj[i]\u001b[38;5;241m.\u001b[39mreshape(\u001b[38;5;241m-\u001b[39m\u001b[38;5;241m1\u001b[39m) \u001b[38;5;28;01mif\u001b[39;00m unprojected \u001b[38;5;28;01melse\u001b[39;00m \\\n\u001b[1;32m    303\u001b[0m \t\tantisymm_to_real(antisymm( Glist[i]\u001b[38;5;241m.\u001b[39mconj()\u001b[38;5;241m.\u001b[39mT \u001b[38;5;241m@\u001b[39m dWZj[i] ))\u001b[38;5;241m.\u001b[39mreshape(\u001b[38;5;241m-\u001b[39m\u001b[38;5;241m1\u001b[39m)\n",
      "File \u001b[0;32m~/Desktop/QC/ccU-opt/examples/../2qubit-ccU/hessian.py:215\u001b[0m, in \u001b[0;36mansatz_hess_W\u001b[0;34m(Vlist, Wlist, L, Z, k, cU, U, perms, unprojected)\u001b[0m\n\u001b[1;32m    213\u001b[0m U_tilde \u001b[38;5;241m=\u001b[39m np\u001b[38;5;241m.\u001b[39meye(\u001b[38;5;241m2\u001b[39m\u001b[38;5;241m*\u001b[39m\u001b[38;5;241m*\u001b[39m(L))\n\u001b[1;32m    214\u001b[0m \u001b[38;5;28;01mfor\u001b[39;00m j \u001b[38;5;129;01min\u001b[39;00m \u001b[38;5;28mrange\u001b[39m(i\u001b[38;5;241m+\u001b[39m\u001b[38;5;241m1\u001b[39m, \u001b[38;5;28mlen\u001b[39m(Vlist)):\n\u001b[0;32m--> 215\u001b[0m \tU_tilde \u001b[38;5;241m=\u001b[39m \u001b[43mapplyG_block\u001b[49m\u001b[43m(\u001b[49m\u001b[43mVlist\u001b[49m\u001b[43m[\u001b[49m\u001b[43mj\u001b[49m\u001b[43m]\u001b[49m\u001b[43m,\u001b[49m\u001b[43m \u001b[49m\u001b[43mL\u001b[49m\u001b[43m,\u001b[49m\u001b[43m \u001b[49m\u001b[43mperms\u001b[49m\u001b[43m[\u001b[49m\u001b[43mj\u001b[49m\u001b[43m]\u001b[49m\u001b[43m)\u001b[49m \u001b[38;5;241m@\u001b[39m U_tilde\n\u001b[1;32m    216\u001b[0m U_tilde \u001b[38;5;241m=\u001b[39m U \u001b[38;5;241m@\u001b[39m U_tilde\n\u001b[1;32m    217\u001b[0m \u001b[38;5;28;01mfor\u001b[39;00m j \u001b[38;5;129;01min\u001b[39;00m \u001b[38;5;28mrange\u001b[39m(k):\n",
      "File \u001b[0;32m~/Desktop/QC/ccU-opt/examples/../2qubit-ccU/utils.py:76\u001b[0m, in \u001b[0;36mapplyG_block\u001b[0;34m(G, L, perm)\u001b[0m\n\u001b[1;32m     74\u001b[0m U \u001b[38;5;241m=\u001b[39m np\u001b[38;5;241m.\u001b[39meye(\u001b[38;5;241m2\u001b[39m\u001b[38;5;241m*\u001b[39m\u001b[38;5;241m*\u001b[39mL)\n\u001b[1;32m     75\u001b[0m \u001b[38;5;28;01mfor\u001b[39;00m j \u001b[38;5;129;01min\u001b[39;00m \u001b[38;5;28mrange\u001b[39m(\u001b[38;5;28mlen\u001b[39m(perm)\u001b[38;5;241m/\u001b[39m\u001b[38;5;241m/\u001b[39m\u001b[38;5;241m2\u001b[39m):\n\u001b[0;32m---> 76\u001b[0m \tU \u001b[38;5;241m=\u001b[39m \u001b[43mapplyG\u001b[49m\u001b[43m(\u001b[49m\u001b[43mG\u001b[49m\u001b[43m,\u001b[49m\u001b[43m \u001b[49m\u001b[43mperm\u001b[49m\u001b[43m[\u001b[49m\u001b[38;5;241;43m2\u001b[39;49m\u001b[38;5;241;43m*\u001b[39;49m\u001b[43mj\u001b[49m\u001b[43m]\u001b[49m\u001b[43m,\u001b[49m\u001b[43m \u001b[49m\u001b[43mperm\u001b[49m\u001b[43m[\u001b[49m\u001b[38;5;241;43m2\u001b[39;49m\u001b[38;5;241;43m*\u001b[39;49m\u001b[43mj\u001b[49m\u001b[38;5;241;43m+\u001b[39;49m\u001b[38;5;241;43m1\u001b[39;49m\u001b[43m]\u001b[49m\u001b[43m,\u001b[49m\u001b[43m \u001b[49m\u001b[43mL\u001b[49m\u001b[43m)\u001b[49m \u001b[38;5;241m@\u001b[39m U\n\u001b[1;32m     77\u001b[0m \u001b[38;5;28;01mreturn\u001b[39;00m U\n",
      "File \u001b[0;32m~/Desktop/QC/ccU-opt/examples/../2qubit-ccU/utils.py:66\u001b[0m, in \u001b[0;36mapplyG\u001b[0;34m(G, k, l, N)\u001b[0m\n\u001b[1;32m     63\u001b[0m \tSWAP \u001b[38;5;241m=\u001b[39m np\u001b[38;5;241m.\u001b[39marray([[\u001b[38;5;241m1\u001b[39m,\u001b[38;5;241m0\u001b[39m,\u001b[38;5;241m0\u001b[39m,\u001b[38;5;241m0\u001b[39m],[\u001b[38;5;241m0\u001b[39m,\u001b[38;5;241m0\u001b[39m,\u001b[38;5;241m1\u001b[39m,\u001b[38;5;241m0\u001b[39m],[\u001b[38;5;241m0\u001b[39m,\u001b[38;5;241m1\u001b[39m,\u001b[38;5;241m0\u001b[39m,\u001b[38;5;241m0\u001b[39m],[\u001b[38;5;241m0\u001b[39m,\u001b[38;5;241m0\u001b[39m,\u001b[38;5;241m0\u001b[39m,\u001b[38;5;241m1\u001b[39m]])\n\u001b[1;32m     64\u001b[0m \tG \u001b[38;5;241m=\u001b[39m SWAP \u001b[38;5;241m@\u001b[39m G \u001b[38;5;241m@\u001b[39m SWAP\n\u001b[0;32m---> 66\u001b[0m G_01 \u001b[38;5;241m=\u001b[39m \u001b[43motimes\u001b[49m\u001b[43m(\u001b[49m\u001b[43m[\u001b[49m\u001b[43mG\u001b[49m\u001b[43m]\u001b[49m\u001b[43m \u001b[49m\u001b[38;5;241;43m+\u001b[39;49m\u001b[43m \u001b[49m\u001b[43m[\u001b[49m\u001b[43mI2\u001b[49m\u001b[43m \u001b[49m\u001b[38;5;28;43;01mfor\u001b[39;49;00m\u001b[43m \u001b[49m\u001b[43mi\u001b[49m\u001b[43m \u001b[49m\u001b[38;5;129;43;01min\u001b[39;49;00m\u001b[43m \u001b[49m\u001b[38;5;28;43mrange\u001b[39;49m\u001b[43m(\u001b[49m\u001b[43mN\u001b[49m\u001b[38;5;241;43m-\u001b[39;49m\u001b[38;5;241;43m2\u001b[39;49m\u001b[43m)\u001b[49m\u001b[43m]\u001b[49m\u001b[43m)\u001b[49m\n\u001b[1;32m     67\u001b[0m to_ret \u001b[38;5;241m=\u001b[39m G_01\n\u001b[1;32m     68\u001b[0m to_ret \u001b[38;5;241m=\u001b[39m permute_operation(to_ret, k, l, N) \u001b[38;5;28;01mif\u001b[39;00m (k\u001b[38;5;241m!=\u001b[39m\u001b[38;5;241m0\u001b[39m \u001b[38;5;129;01mor\u001b[39;00m l\u001b[38;5;241m!=\u001b[39m\u001b[38;5;241m1\u001b[39m) \u001b[38;5;28;01melse\u001b[39;00m to_ret\n",
      "File \u001b[0;32m~/Desktop/QC/ccU-opt/examples/../2qubit-ccU/utils.py:19\u001b[0m, in \u001b[0;36motimes\u001b[0;34m(matrices)\u001b[0m\n\u001b[1;32m     17\u001b[0m mat \u001b[38;5;241m=\u001b[39m np\u001b[38;5;241m.\u001b[39meye(\u001b[38;5;241m1\u001b[39m)\n\u001b[1;32m     18\u001b[0m \u001b[38;5;28;01mfor\u001b[39;00m matrix \u001b[38;5;129;01min\u001b[39;00m matrices:\n\u001b[0;32m---> 19\u001b[0m \tmat \u001b[38;5;241m=\u001b[39m \u001b[43mnp\u001b[49m\u001b[38;5;241;43m.\u001b[39;49m\u001b[43mkron\u001b[49m\u001b[43m(\u001b[49m\u001b[43mmat\u001b[49m\u001b[43m,\u001b[49m\u001b[43m \u001b[49m\u001b[43mmatrix\u001b[49m\u001b[43m)\u001b[49m\n\u001b[1;32m     20\u001b[0m \u001b[38;5;28;01mreturn\u001b[39;00m mat\n",
      "File \u001b[0;32m/opt/anaconda3/envs/qc/lib/python3.10/site-packages/numpy/lib/shape_base.py:1170\u001b[0m, in \u001b[0;36mkron\u001b[0;34m(a, b)\u001b[0m\n\u001b[1;32m   1167\u001b[0m b_arr \u001b[38;5;241m=\u001b[39m expand_dims(b, axis\u001b[38;5;241m=\u001b[39m\u001b[38;5;28mtuple\u001b[39m(\u001b[38;5;28mrange\u001b[39m(nda\u001b[38;5;241m-\u001b[39mndb)))\n\u001b[1;32m   1169\u001b[0m \u001b[38;5;66;03m# Compute the product\u001b[39;00m\n\u001b[0;32m-> 1170\u001b[0m a_arr \u001b[38;5;241m=\u001b[39m \u001b[43mexpand_dims\u001b[49m\u001b[43m(\u001b[49m\u001b[43ma_arr\u001b[49m\u001b[43m,\u001b[49m\u001b[43m \u001b[49m\u001b[43maxis\u001b[49m\u001b[38;5;241;43m=\u001b[39;49m\u001b[38;5;28;43mtuple\u001b[39;49m\u001b[43m(\u001b[49m\u001b[38;5;28;43mrange\u001b[39;49m\u001b[43m(\u001b[49m\u001b[38;5;241;43m1\u001b[39;49m\u001b[43m,\u001b[49m\u001b[43m \u001b[49m\u001b[43mnd\u001b[49m\u001b[38;5;241;43m*\u001b[39;49m\u001b[38;5;241;43m2\u001b[39;49m\u001b[43m,\u001b[49m\u001b[43m \u001b[49m\u001b[38;5;241;43m2\u001b[39;49m\u001b[43m)\u001b[49m\u001b[43m)\u001b[49m\u001b[43m)\u001b[49m\n\u001b[1;32m   1171\u001b[0m b_arr \u001b[38;5;241m=\u001b[39m expand_dims(b_arr, axis\u001b[38;5;241m=\u001b[39m\u001b[38;5;28mtuple\u001b[39m(\u001b[38;5;28mrange\u001b[39m(\u001b[38;5;241m0\u001b[39m, nd\u001b[38;5;241m*\u001b[39m\u001b[38;5;241m2\u001b[39m, \u001b[38;5;241m2\u001b[39m)))\n\u001b[1;32m   1172\u001b[0m \u001b[38;5;66;03m# In case of `mat`, convert result to `array`\u001b[39;00m\n",
      "File \u001b[0;32m/opt/anaconda3/envs/qc/lib/python3.10/site-packages/numpy/lib/shape_base.py:600\u001b[0m, in \u001b[0;36mexpand_dims\u001b[0;34m(a, axis)\u001b[0m\n\u001b[1;32m    597\u001b[0m axis \u001b[38;5;241m=\u001b[39m normalize_axis_tuple(axis, out_ndim)\n\u001b[1;32m    599\u001b[0m shape_it \u001b[38;5;241m=\u001b[39m \u001b[38;5;28miter\u001b[39m(a\u001b[38;5;241m.\u001b[39mshape)\n\u001b[0;32m--> 600\u001b[0m shape \u001b[38;5;241m=\u001b[39m [\u001b[38;5;241m1\u001b[39m \u001b[38;5;28;01mif\u001b[39;00m ax \u001b[38;5;129;01min\u001b[39;00m axis \u001b[38;5;28;01melse\u001b[39;00m \u001b[38;5;28mnext\u001b[39m(shape_it) \u001b[38;5;28;01mfor\u001b[39;00m ax \u001b[38;5;129;01min\u001b[39;00m \u001b[38;5;28mrange\u001b[39m(out_ndim)]\n\u001b[1;32m    602\u001b[0m \u001b[38;5;28;01mreturn\u001b[39;00m a\u001b[38;5;241m.\u001b[39mreshape(shape)\n",
      "File \u001b[0;32m/opt/anaconda3/envs/qc/lib/python3.10/site-packages/numpy/lib/shape_base.py:600\u001b[0m, in \u001b[0;36m<listcomp>\u001b[0;34m(.0)\u001b[0m\n\u001b[1;32m    597\u001b[0m axis \u001b[38;5;241m=\u001b[39m normalize_axis_tuple(axis, out_ndim)\n\u001b[1;32m    599\u001b[0m shape_it \u001b[38;5;241m=\u001b[39m \u001b[38;5;28miter\u001b[39m(a\u001b[38;5;241m.\u001b[39mshape)\n\u001b[0;32m--> 600\u001b[0m shape \u001b[38;5;241m=\u001b[39m [\u001b[38;5;241m1\u001b[39m \u001b[38;5;28;01mif\u001b[39;00m ax \u001b[38;5;129;01min\u001b[39;00m axis \u001b[38;5;28;01melse\u001b[39;00m \u001b[38;5;28mnext\u001b[39m(shape_it) \u001b[38;5;28;01mfor\u001b[39;00m ax \u001b[38;5;129;01min\u001b[39;00m \u001b[38;5;28mrange\u001b[39m(out_ndim)]\n\u001b[1;32m    602\u001b[0m \u001b[38;5;28;01mreturn\u001b[39;00m a\u001b[38;5;241m.\u001b[39mreshape(shape)\n",
      "\u001b[0;31mKeyboardInterrupt\u001b[0m: "
     ]
    }
   ],
   "source": [
    "from optimize import optimize_circuit\n",
    "\n",
    "\n",
    "Glists = []\n",
    "f_iters = []\n",
    "for _ in range(10):\n",
    "    Glist_start = 2*[random_unitary(4) for _ in range(len(perms))]\n",
    "    #Glist_start = Glist_opt_L2\n",
    "    Glist, f_iter, err_iter = optimize_circuit(L, U, cU, Glist_start, perms, niter=90)\n",
    "    print(\"Best f: \", f_iter[-1])\n",
    "    print(\"Best err: \", err_iter[-1])\n",
    "    Glists.append(Glist)\n",
    "    f_iters.append(f_iter)"
   ]
  },
  {
   "cell_type": "code",
   "execution_count": 160,
   "id": "281c5308-cb51-4eab-93c2-90946395b076",
   "metadata": {},
   "outputs": [],
   "source": [
    "import h5py\n",
    "\n",
    "with h5py.File(f\"../results_data/Heisenberg1d_L{L}_layers{len(perms)}_err{round(err_iter[-1], 2)}.hdf5\", \"w\") as f:\n",
    "    f.create_dataset(\"Glist\", data=Glists[-1])"
   ]
  },
  {
   "cell_type": "code",
   "execution_count": 179,
   "id": "8870a754-9976-46cb-9348-36748ddc0dc7",
   "metadata": {},
   "outputs": [
    {
     "name": "stdout",
     "output_type": "stream",
     "text": [
      "Reusing Best L=4 gates for L=4, Frobenius Norm:  1.5979074538494783e-09\n",
      "Cost function:  -16.000000000000085\n",
      "Reusing Best L=2 gates for L=4, Frobenius Norm:  1.9152784893026091\n",
      "Cost function:  -1.0694422462639273\n"
     ]
    }
   ],
   "source": [
    "L = 4\n",
    "latt = qib.lattice.IntegerLattice((L,), pbc=True)\n",
    "field = qib.field.Field(qib.field.ParticleType.QUBIT, latt)\n",
    "hamil = qib.HeisenbergHamiltonian(field, (1,1,1), (0,0,0)).as_matrix().toarray()\n",
    "perms = [[i for i in range(L)], [i for i in range(1, L)]+[0], [i for i in range(L)]]\n",
    "U = scipy.linalg.expm(-1j*hamil)\n",
    "U_back = scipy.linalg.expm(1j*hamil)\n",
    "cU = U_back\n",
    "\n",
    "Glist_perms3_best_L4 = None\n",
    "with h5py.File(f\"../results_data/Heisenberg1d_L4_layers3_err0.0.hdf5\", \"r\") as f:\n",
    "    Glist_perms3_best_L4 = f[\"Glist\"][:]\n",
    "print(\"Reusing Best L=4 gates for L=4, Frobenius Norm: \", np.linalg.norm(ansatz(Glist_perms3_best_L4, U, L, perms) - cU, ord=2))\n",
    "print(\"Cost function: \", err(Glist_perms3_best_L4, U, L, perms, cU))\n",
    "\n",
    "Glist_perms3_best_L2 = None\n",
    "with h5py.File(f\"../results_data/Heisenberg1d_L2_layers3.hdf5\", \"r\") as f:\n",
    "    Glist_perms3_best_L2 = f[\"Glist\"][:]\n",
    "print(\"Reusing Best L=2 gates for L=4, Frobenius Norm: \", np.linalg.norm(ansatz(Glist_perms3_best_L2, U, L, perms) - cU, ord=2))\n",
    "print(\"Cost function: \", err(Glist_perms3_best_L2, U, L, perms, cU))"
   ]
  },
  {
   "cell_type": "code",
   "execution_count": 171,
   "id": "10326e24-978c-4592-bddf-589ce400fc48",
   "metadata": {},
   "outputs": [
    {
     "name": "stdout",
     "output_type": "stream",
     "text": [
      "Reusing Perfect L=4 gates for L=6, Frobenius Norm:  1.9708272557319977\n",
      "Cost function:  1.5421356595181988\n"
     ]
    }
   ],
   "source": [
    "L = 6\n",
    "latt = qib.lattice.IntegerLattice((L,), pbc=True)\n",
    "field = qib.field.Field(qib.field.ParticleType.QUBIT, latt)\n",
    "hamil = qib.HeisenbergHamiltonian(field, (1,1,1), (0,0,0)).as_matrix().toarray()\n",
    "perms = [[i for i in range(L)], [i for i in range(1, L)]+[0], [i for i in range(L)]]\n",
    "U = scipy.linalg.expm(-1j*hamil)\n",
    "U_back = scipy.linalg.expm(1j*hamil)\n",
    "cU = U_back\n",
    "\n",
    "print(\"Reusing Perfect L=4 gates for L=6, Frobenius Norm: \", np.linalg.norm(ansatz(Glist_perms3_best_L4, U, L, perms) - cU, ord=2))\n",
    "print(\"Cost function: \", err(Glist_perms3_best_L4, U, L, perms, cU))"
   ]
  },
  {
   "cell_type": "code",
   "execution_count": 184,
   "id": "6cd79984-9d24-4ffc-b622-27760f3968c7",
   "metadata": {},
   "outputs": [
    {
     "name": "stdout",
     "output_type": "stream",
     "text": [
      "Reusing Best L=4 gates for L=4, Frobenius Norm:  1.5979074538494783e-09\n"
     ]
    }
   ],
   "source": [
    "U = scipy.linalg.expm(-1j*hamil)\n",
    "U_back = scipy.linalg.expm(1j*hamil)\n",
    "cU = U_back\n",
    "\n",
    "print(\"Reusing Best L=4 gates for L=4, Frobenius Norm: \", np.linalg.norm(ansatz(Glist_perms3_best_L4, U, L, perms) - cU, ord=2))"
   ]
  },
  {
   "cell_type": "code",
   "execution_count": null,
   "id": "bce99814-32b9-4c94-94fb-cdb30975302c",
   "metadata": {},
   "outputs": [],
   "source": []
  },
  {
   "cell_type": "code",
   "execution_count": null,
   "id": "b107d8d2-a8ee-496b-821b-706fad4990f5",
   "metadata": {},
   "outputs": [],
   "source": []
  }
 ],
 "metadata": {
  "kernelspec": {
   "display_name": "Python3.10 (qc)",
   "language": "python",
   "name": "qc"
  },
  "language_info": {
   "codemirror_mode": {
    "name": "ipython",
    "version": 3
   },
   "file_extension": ".py",
   "mimetype": "text/x-python",
   "name": "python",
   "nbconvert_exporter": "python",
   "pygments_lexer": "ipython3",
   "version": "3.10.13"
  }
 },
 "nbformat": 4,
 "nbformat_minor": 5
}
