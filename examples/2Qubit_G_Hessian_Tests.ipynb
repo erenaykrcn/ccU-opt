{
 "cells": [
  {
   "cell_type": "code",
   "execution_count": 113,
   "id": "4c2506bf-cde1-4646-8fd8-3f2aa9d38161",
   "metadata": {},
   "outputs": [],
   "source": [
    "import qiskit\n",
    "from qiskit.quantum_info import state_fidelity\n",
    "import numpy as np\n",
    "from numpy import linalg as LA\n",
    "import qib\n",
    "import matplotlib.pyplot as plt\n",
    "import scipy\n",
    "\n",
    "I2 = np.eye(2)\n",
    "X = np.array([[0, 1], [1, 0]])\n",
    "Y = np.array([[0, -1j], [1j, 0]])\n",
    "Z = np.array([[1, 0], [0, -1]])\n",
    "\n",
    "# Random unitary generator\n",
    "def random_unitary(n):\n",
    "    A = np.random.randn(n, n) + 1j * np.random.randn(n, n)\n",
    "    Q, _ = np.linalg.qr(A)\n",
    "    return Q\n",
    "\n",
    "L = 4\n",
    "# construct Hamiltonian\n",
    "latt = qib.lattice.IntegerLattice((L,), pbc=True)\n",
    "field = qib.field.Field(qib.field.ParticleType.QUBIT, latt)\n",
    "#hamil = qib.IsingHamiltonian(field, 1, 0, 0).as_matrix().toarray()\n",
    "hamil = qib.HeisenbergHamiltonian(field, (1,1,1), (0,0,0)).as_matrix().toarray()\n",
    "perms = [[i for i in range(L)], [i for i in range(1, L)]+[0], [i for i in range(L)]]\n",
    "U = scipy.linalg.expm(-1j*hamil)\n",
    "U_back = scipy.linalg.expm(1j*hamil)\n",
    "cU = U_back"
   ]
  },
  {
   "cell_type": "code",
   "execution_count": 102,
   "id": "8e8c4b4c-70b3-4ead-8dde-0f2e75427f60",
   "metadata": {},
   "outputs": [],
   "source": [
    "# Numerical Test function for: d/G_j d/dG_i f(G)\n",
    "from utils import polar_decomp, project_unitary_tangent, real_to_antisymm, antisymm_to_real, antisymm\n",
    "\n",
    "\n",
    "def numerical_hessian(Glist, cU, U, L, perms, i, j, epsilon=1e-6):\n",
    "    \"\"\"Numerically compute d/dW1 of projected gradient dL/dV1 (Riemannian).\"\"\"\n",
    "    numerical_H = []\n",
    "\n",
    "    for _ in range(16):\n",
    "        # Create unit vector in 16D real tangent space\n",
    "        Z_real = np.zeros(16)\n",
    "        Z_real[_] = 1.0\n",
    "        Z = real_to_antisymm(Z_real.reshape(4, 4))  # 4x4 anti-Hermitian direction\n",
    "\n",
    "        # Perturb G_j on the manifold\n",
    "        #Gj_plus  = Glist[j] + epsilon * Glist[j] @ Z\n",
    "        #Gj_minus = Glist[j] - epsilon * Glist[j] @ Z\n",
    "        Gj_plus  = Glist[j] @ scipy.linalg.expm(+epsilon*Z)\n",
    "        Gj_minus = Glist[j] @ scipy.linalg.expm(-epsilon*Z)\n",
    "\n",
    "    \n",
    "        if i==j:\n",
    "            grad_plus  = ansatz_grad_vector(Glist[:j]+[Gj_plus]+Glist[j+1:], cU, U, L, perms, unprojected=True, flatten=False)[i]\n",
    "            grad_minus = ansatz_grad_vector(Glist[:j]+[Gj_minus]+Glist[j+1:], cU, U, L, perms, unprojected=True, flatten=False)[i]\n",
    "            dgrad = (grad_plus - grad_minus) / (2 * epsilon)  # shape (16,)\n",
    "            G = dgrad.reshape(4, 4)\n",
    "\n",
    "            # TODO: Is this projection correct?\n",
    "            V = Glist[j]\n",
    "            Z = V @ Z\n",
    "            G = project_unitary_tangent(V, G)\n",
    "            grad = ansatz_grad_vector(Glist, cU, U, L, perms, flatten=False, unprojected=True)[i]\n",
    "            G -= 0.5 * (Z @ grad.conj().T @ V + V @ grad.conj().T @ Z)\n",
    "            if not np.allclose(Z, project_unitary_tangent(V, Z)):\n",
    "                G -= 0.5 * (Z @ V.conj().T + V @ Z.conj().T) @ grad\n",
    "            G = antisymm_to_real(antisymm( V.conj().T @ G ))\n",
    "        else:\n",
    "            grad_plus  = ansatz_grad_vector(Glist[:j]+[Gj_plus]+Glist[j+1:], cU, U, L, perms, unprojected=False, flatten=False)[i]\n",
    "            grad_minus = ansatz_grad_vector(Glist[:j]+[Gj_minus]+Glist[j+1:], cU, U, L, perms, unprojected=False, flatten=False)[i]\n",
    "            dgrad = (grad_plus - grad_minus) / (2 * epsilon)  # shape (16,)\n",
    "            G = dgrad.reshape(4, 4)\n",
    "            \n",
    "        numerical_H.append(G)\n",
    "    \n",
    "    return np.array(numerical_H)  # shape: (16, 4, 4)\n",
    "\n",
    "\n",
    "i, j = 1,3\n",
    "Glist = [random_unitary(4) for _ in range(2 * len(perms))]\n",
    "H = ansatz_hessian_matrix(Glist, cU, U, L, perms, unprojected=False, flatten=False)\n",
    "grad = []\n",
    "for _ in range(16):\n",
    "    grad.append(H[i, :, j, _].reshape(4,4))\n",
    "analytical = np.array(grad)\n",
    "\n",
    "numerical = numerical_hessian(Glist, cU, U, L, perms, i, j)\n",
    "\n",
    "#print(\"Numerical 4x4 matrix:\\n\", numerical[0])\n",
    "#print(\"Analytical 4x4 matrix:\\n\", analytical[0])\n",
    "print(\"Difference norm:\", np.linalg.norm(numerical - analytical))"
   ]
  },
  {
   "cell_type": "code",
   "execution_count": null,
   "id": "e2ae8b47-fb9e-45d0-851c-0f861eb9d47f",
   "metadata": {},
   "outputs": [
    {
     "name": "stdout",
     "output_type": "stream",
     "text": [
      "Best f:  -13.705436464334262\n",
      "Best err:  1.0391743748902362\n",
      "Best f:  -15.098297603921036\n",
      "Best err:  0.7598283415468201\n",
      "Best f:  -15.296720717012048\n",
      "Best err:  0.7477500159701753\n",
      "Best f:  -15.687599439818186\n",
      "Best err:  0.45762861404699684\n"
     ]
    }
   ],
   "source": [
    "from optimize import optimize_circuit\n",
    "\n",
    "\n",
    "Glists = []\n",
    "f_iters = []\n",
    "for _ in range(10):\n",
    "    Glist_start = [random_unitary(4) for _ in range(2 * len(perms))]\n",
    "    #Glist_start = Glist_opt_L2\n",
    "    Glist, f_iter, err_iter = optimize_circuit(L, U, cU, Glist_start, perms, niter=90)\n",
    "    print(\"Best f: \", f_iter[-1])\n",
    "    print(\"Best err: \", err_iter[-1])\n",
    "    Glists.append(Glist)\n",
    "    f_iters.append(f_iter)"
   ]
  },
  {
   "cell_type": "code",
   "execution_count": null,
   "id": "281c5308-cb51-4eab-93c2-90946395b076",
   "metadata": {},
   "outputs": [],
   "source": [
    "import h5py\n",
    "\n",
    "with h5py.File(f\"../results_data/Heisenberg1d_L{L}_layers{len(perms)}_err{round(err_iter[-1], 2)}.hdf5\", \"w\") as f:\n",
    "    f.create_dataset(\"Glist\", data=Glist)"
   ]
  },
  {
   "cell_type": "code",
   "execution_count": 133,
   "id": "8870a754-9976-46cb-9348-36748ddc0dc7",
   "metadata": {},
   "outputs": [
    {
     "name": "stdout",
     "output_type": "stream",
     "text": [
      "Reusing L=4 gates for L=4:  0.2474001066467117\n"
     ]
    }
   ],
   "source": [
    "L = 4\n",
    "latt = qib.lattice.IntegerLattice((L,), pbc=True)\n",
    "field = qib.field.Field(qib.field.ParticleType.QUBIT, latt)\n",
    "hamil = qib.HeisenbergHamiltonian(field, (1,1,1), (0,0,0)).as_matrix().toarray()\n",
    "U = scipy.linalg.expm(-1j*hamil)\n",
    "U_back = scipy.linalg.expm(1j*hamil)\n",
    "cU = U_back\n",
    "\n",
    "print(\"Reusing L=4 gates for L=4: \", np.linalg.norm(ansatz(Glist_opt_perms3, U, L, perms) - cU, ord=2))"
   ]
  },
  {
   "cell_type": "code",
   "execution_count": null,
   "id": "10326e24-978c-4592-bddf-589ce400fc48",
   "metadata": {},
   "outputs": [],
   "source": []
  },
  {
   "cell_type": "code",
   "execution_count": null,
   "id": "6cd79984-9d24-4ffc-b622-27760f3968c7",
   "metadata": {},
   "outputs": [],
   "source": []
  },
  {
   "cell_type": "code",
   "execution_count": null,
   "id": "bce99814-32b9-4c94-94fb-cdb30975302c",
   "metadata": {},
   "outputs": [],
   "source": []
  }
 ],
 "metadata": {
  "kernelspec": {
   "display_name": "Python3.10 (qc)",
   "language": "python",
   "name": "qc"
  },
  "language_info": {
   "codemirror_mode": {
    "name": "ipython",
    "version": 3
   },
   "file_extension": ".py",
   "mimetype": "text/x-python",
   "name": "python",
   "nbconvert_exporter": "python",
   "pygments_lexer": "ipython3",
   "version": "3.10.13"
  }
 },
 "nbformat": 4,
 "nbformat_minor": 5
}
