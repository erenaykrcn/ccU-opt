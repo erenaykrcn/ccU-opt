{
 "cells": [
  {
   "cell_type": "code",
   "execution_count": 47,
   "id": "4c2506bf-cde1-4646-8fd8-3f2aa9d38161",
   "metadata": {},
   "outputs": [],
   "source": [
    "import qiskit\n",
    "from qiskit.quantum_info import state_fidelity\n",
    "import numpy as np\n",
    "from numpy import linalg as LA\n",
    "import qib\n",
    "import matplotlib.pyplot as plt\n",
    "import scipy\n",
    "\n",
    "I2 = np.eye(2)\n",
    "X = np.array([[0, 1], [1, 0]])\n",
    "Y = np.array([[0, -1j], [1j, 0]])\n",
    "Z = np.array([[1, 0], [0, -1]])\n",
    "\n",
    "# Random unitary generator\n",
    "def random_unitary(n):\n",
    "    A = np.random.randn(n, n) + 1j * np.random.randn(n, n)\n",
    "    Q, _ = np.linalg.qr(A)\n",
    "    return Q\n",
    "\n",
    "L = 4\n",
    "# construct Hamiltonian\n",
    "latt = qib.lattice.IntegerLattice((L,), pbc=True)\n",
    "field = qib.field.Field(qib.field.ParticleType.QUBIT, latt)\n",
    "hamil = qib.IsingHamiltonian(field, 1, 0, 0).as_matrix().toarray()\n",
    "#hamil = qib.HeisenbergHamiltonian(field, (1,1,1), (0,0,0)).as_matrix().toarray()\n",
    "perms = [[i for i in range(L)], [i for i in range(1, L)]+[0]]\n",
    "#perms = [[0, 1]]\n",
    "U = scipy.linalg.expm(-1j*hamil)\n",
    "U_back = scipy.linalg.expm(1j*hamil)\n",
    "cU = U_back"
   ]
  },
  {
   "cell_type": "code",
   "execution_count": 48,
   "id": "ef04c09d-a60c-445e-8af1-fa502124a4e1",
   "metadata": {},
   "outputs": [
    {
     "name": "stdout",
     "output_type": "stream",
     "text": [
      "0.0\n",
      "-16.0\n"
     ]
    }
   ],
   "source": [
    "import sys\n",
    "sys.path.append(\"../2qubit-ccU\")\n",
    "from utils import otimes, applyG\n",
    "from ansatz import ansatz, ansatz_grad_vector\n",
    "from hessian import ansatz_hessian_matrix\n",
    "from optimize import err\n",
    "\n",
    "V1 = np.kron(X, I2)\n",
    "V2 = np.kron(I2, I2)\n",
    "W1 = V1\n",
    "W2 = V2\n",
    "Glist_opt = [V1, V2, W1, W2]\n",
    "#Glist_opt = [V1, W1]\n",
    "\n",
    "print(np.linalg.norm(cU - ansatz(Glist_opt, U, L, perms), ord=2))\n",
    "print(err(Glist_opt, U, L, perms, cU))"
   ]
  },
  {
   "cell_type": "code",
   "execution_count": 49,
   "id": "94ded7ba-fd73-4aeb-91d3-769a705ce2e0",
   "metadata": {},
   "outputs": [
    {
     "data": {
      "text/plain": [
       "True"
      ]
     },
     "execution_count": 49,
     "metadata": {},
     "output_type": "execute_result"
    }
   ],
   "source": [
    "hess_opt = -ansatz_hessian_matrix(Glist_opt, cU, U, L, perms, unprojected=False)\n",
    "np.all(np.linalg.eigvals(hess_opt) >= -1e-3)"
   ]
  },
  {
   "cell_type": "code",
   "execution_count": 50,
   "id": "8e8c4b4c-70b3-4ead-8dde-0f2e75427f60",
   "metadata": {},
   "outputs": [],
   "source": [
    "\n",
    "def numerical_hessian_V1_W1_riemannian(Glist, cU, U, L, perms, epsilon=1e-6):\n",
    "    \"\"\"Numerically compute d/dW1 of projected gradient dL/dV1 (Riemannian).\"\"\"\n",
    "    numerical_H = []\n",
    "    V1, V2, W1, W2 = Glist\n",
    "    \n",
    "    for j in range(16):\n",
    "        # Create unit vector in 16D real tangent space\n",
    "        Z_real = np.zeros(16)\n",
    "        Z_real[j] = 1.0\n",
    "        Z = real_to_antisymm(Z_real.reshape(4, 4))  # 4x4 anti-Hermitian direction\n",
    "\n",
    "        # Perturb W1 on the manifold\n",
    "        W1_plus = W1 + epsilon * W1 @ Z\n",
    "        W1_minus = W1 - epsilon * W1 @ Z\n",
    "\n",
    "        # Ensure unitary (optional: polar projection if needed)\n",
    "        # W1_plus, _ = polar_decomp(W1_plus)\n",
    "        # W1_minus, _ = polar_decomp(W1_minus)\n",
    "\n",
    "        # Compute projected gradients of f w.r.t. V1\n",
    "        grad_plus  = ansatz_grad_vector([V1, V2, W1_plus, W2], cU, U, L, perms, unprojected=False, flatten=False)[0]\n",
    "        grad_minus = ansatz_grad_vector([V1, V2, W1_minus, W2], cU, U, L, perms, unprojected=False, flatten=False)[0]\n",
    "\n",
    "        # Central difference\n",
    "        dgrad = (grad_plus - grad_minus) / (2 * epsilon)  # shape (16,)\n",
    "        numerical_H.append(dgrad.reshape(4, 4))\n",
    "    \n",
    "    return np.array(numerical_H)  # shape: (16, 4, 4)"
   ]
  },
  {
   "cell_type": "code",
   "execution_count": 51,
   "id": "d72c7cdf-b161-4bb1-965c-9dfa15ad00cb",
   "metadata": {
    "scrolled": true
   },
   "outputs": [
    {
     "name": "stdout",
     "output_type": "stream",
     "text": [
      "Difference norm: 2.081659035683461e-09\n"
     ]
    }
   ],
   "source": [
    "from utils import real_to_antisymm, antisymm_to_real, antisymm\n",
    "\n",
    "Glist = [random_unitary(4) for _ in range(2 * len(perms))]\n",
    "V_1, V_2, W_1, W_2 = Glist\n",
    "\n",
    "H = ansatz_hessian_matrix(Glist, cU, U, L, perms, unprojected=False, flatten=False)\n",
    "grad = []\n",
    "for j in range(16):\n",
    "    grad.append(H[0, :, 2, j].reshape(4,4))\n",
    "analytical = np.array(grad)\n",
    "\n",
    "numerical = numerical_hessian_V1_W1_riemannian(Glist, cU, U, L, perms)\n",
    "\n",
    "#print(\"Numerical 4x4 matrix:\\n\", numerical)\n",
    "#print(\"Analytical 4x4 matrix:\\n\", analytical)\n",
    "print(\"Difference norm:\", np.linalg.norm(numerical - analytical))"
   ]
  },
  {
   "cell_type": "code",
   "execution_count": null,
   "id": "a02a5c18-ecc0-4d41-aa03-c1d74475af13",
   "metadata": {},
   "outputs": [],
   "source": []
  },
  {
   "cell_type": "code",
   "execution_count": null,
   "id": "6ff7b2ba-895d-4828-82c3-543d5bdf7a2d",
   "metadata": {},
   "outputs": [],
   "source": []
  },
  {
   "cell_type": "code",
   "execution_count": null,
   "id": "2b5d10bb-0cc3-491c-b73d-2f02e9d93b2f",
   "metadata": {},
   "outputs": [],
   "source": []
  },
  {
   "cell_type": "code",
   "execution_count": null,
   "id": "e2ae8b47-fb9e-45d0-851c-0f861eb9d47f",
   "metadata": {},
   "outputs": [],
   "source": []
  }
 ],
 "metadata": {
  "kernelspec": {
   "display_name": "Python3.10 (qc)",
   "language": "python",
   "name": "qc"
  },
  "language_info": {
   "codemirror_mode": {
    "name": "ipython",
    "version": 3
   },
   "file_extension": ".py",
   "mimetype": "text/x-python",
   "name": "python",
   "nbconvert_exporter": "python",
   "pygments_lexer": "ipython3",
   "version": "3.10.13"
  }
 },
 "nbformat": 4,
 "nbformat_minor": 5
}
