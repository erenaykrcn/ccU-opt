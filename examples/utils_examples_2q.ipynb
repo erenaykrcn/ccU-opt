{
 "cells": [
  {
   "cell_type": "code",
   "execution_count": 1,
   "id": "387e01d1-c26c-411c-9d26-8f4decd73128",
   "metadata": {},
   "outputs": [
    {
     "name": "stdout",
     "output_type": "stream",
     "text": [
      "Ground State Energy -4.000000000000003\n"
     ]
    }
   ],
   "source": [
    "import qiskit\n",
    "from qiskit.quantum_info import state_fidelity\n",
    "import numpy as np\n",
    "from numpy import linalg as LA\n",
    "import qib\n",
    "import matplotlib.pyplot as plt\n",
    "\n",
    "\n",
    "# Parameters for the Ising Hamiltonian\n",
    "# L has to be even! Due to K only being able to control even Ls!\n",
    "L = 4\n",
    "\n",
    "# construct Hamiltonian\n",
    "latt = qib.lattice.IntegerLattice((L,), pbc=True)\n",
    "field = qib.field.Field(qib.field.ParticleType.QUBIT, latt)\n",
    "#hamil = qib.IsingHamiltonian(field, 1, 0, 0).as_matrix().toarray()\n",
    "hamil = qib.HeisenbergHamiltonian(field, (1,1,1), (0,0,0)).as_matrix().toarray()\n",
    "perms = [[i for i in range(L)], [i for i in range(1, L)]+[0]]\n",
    "#perms = [[0, 1]]\n",
    "\n",
    "eigenvalues, eigenvectors = LA.eig(hamil)\n",
    "idx = eigenvalues.argsort()\n",
    "eigenvalues_sort = eigenvalues[idx]\n",
    "eigenvectors_sort = eigenvectors[:,idx]\n",
    "ground_state = eigenvectors_sort[:, 0]\n",
    "print(\"Ground State Energy\", -eigenvalues_sort[-1].real)"
   ]
  },
  {
   "cell_type": "code",
   "execution_count": 2,
   "id": "e807d644-fe15-496c-855a-c9008c327696",
   "metadata": {},
   "outputs": [],
   "source": [
    "def unitary_approximation(V):\n",
    "    U, _, Vh = np.linalg.svd(V)\n",
    "    unitary_approx = U @ Vh\n",
    "    return unitary_approx"
   ]
  },
  {
   "cell_type": "code",
   "execution_count": 3,
   "id": "99e60dc6-16c9-4afd-8056-3e6599e95d9d",
   "metadata": {},
   "outputs": [],
   "source": [
    "import scipy\n",
    "\n",
    "U = scipy.linalg.expm(-1j*hamil)\n",
    "U_back = scipy.linalg.expm(1j*hamil)\n",
    "cU = U_back"
   ]
  },
  {
   "cell_type": "code",
   "execution_count": 4,
   "id": "cb59507d-0a85-4466-853e-65369dab6fbc",
   "metadata": {},
   "outputs": [],
   "source": [
    "I2 = np.eye(2)\n",
    "X = np.array([[0, 1], [1, 0]])\n",
    "Y = np.array([[0, -1j], [1j, 0]])\n",
    "Z = np.array([[1, 0], [0, -1]])"
   ]
  },
  {
   "cell_type": "code",
   "execution_count": 5,
   "id": "5ea8acd9-12c3-4354-a074-0a1433d680c9",
   "metadata": {},
   "outputs": [
    {
     "data": {
      "text/plain": [
       "1.8882083010551365"
      ]
     },
     "execution_count": 5,
     "metadata": {},
     "output_type": "execute_result"
    }
   ],
   "source": [
    "import sys\n",
    "sys.path.append(\"../2qubit-ccU\")\n",
    "from utils import otimes, applyG\n",
    "from ansatz import ansatz, ansatz_grad_vector\n",
    "#from hessian import ansatz_hessian_matrix\n",
    "\n",
    "V1 = np.kron(X, I2)\n",
    "V2 = np.kron(I2, I2)\n",
    "W1 = V1\n",
    "W2 = V2\n",
    "Glist = [V1, V2, W1, W2]\n",
    "\n",
    "np.linalg.norm(cU - ansatz(Glist, U, L, perms), ord=2)"
   ]
  },
  {
   "cell_type": "code",
   "execution_count": 6,
   "id": "e3d3a937-382a-4b0b-8de1-6b7a211f6c20",
   "metadata": {},
   "outputs": [
    {
     "data": {
      "text/plain": [
       "-9.278893515468628"
      ]
     },
     "execution_count": 6,
     "metadata": {},
     "output_type": "execute_result"
    }
   ],
   "source": [
    "from optimize import err\n",
    "\n",
    "err(Glist, U, L, perms, cU)"
   ]
  },
  {
   "cell_type": "code",
   "execution_count": 7,
   "id": "1a70668d-70d1-4e94-bc6e-7667b9417e29",
   "metadata": {},
   "outputs": [
    {
     "data": {
      "text/plain": [
       "6.816391127368259"
      ]
     },
     "execution_count": 7,
     "metadata": {},
     "output_type": "execute_result"
    }
   ],
   "source": [
    "grad = ansatz_grad_vector(Glist, cU, U, L, perms, flatten=True)\n",
    "np.linalg.norm(grad, ord=2)\n",
    "\n",
    "# Gradient is indeed 0 at the optimal/exact solution. -> Suggested me that my gradient is correct (?)"
   ]
  },
  {
   "cell_type": "code",
   "execution_count": 8,
   "id": "173d57a9-9bfe-4889-9d72-f48961384fe6",
   "metadata": {},
   "outputs": [],
   "source": [
    "# Random unitary generator\n",
    "def random_unitary(n):\n",
    "    A = np.random.randn(n, n) + 1j * np.random.randn(n, n)\n",
    "    Q, _ = np.linalg.qr(A)\n",
    "    return Q"
   ]
  },
  {
   "cell_type": "code",
   "execution_count": 9,
   "id": "ec6752da-3d24-463f-8d75-6fcdb464300a",
   "metadata": {},
   "outputs": [
    {
     "data": {
      "text/plain": [
       "1.9946358801971673"
      ]
     },
     "execution_count": 9,
     "metadata": {},
     "output_type": "execute_result"
    }
   ],
   "source": [
    "# Initial params.\n",
    "Glist = [random_unitary(4) for i in range(len(2*perms))]\n",
    "np.linalg.norm(cU - ansatz(Glist, U, L, perms), ord=2)"
   ]
  },
  {
   "cell_type": "code",
   "execution_count": 10,
   "id": "8d783bc3-04f6-40d5-a8b1-28eebfc92ded",
   "metadata": {},
   "outputs": [
    {
     "name": "stdout",
     "output_type": "stream",
     "text": [
      "Difference (Frobenius norm): 1.316089347056281e-09\n"
     ]
    }
   ],
   "source": [
    "import numpy as np\n",
    "from utils import antisymm_to_real, antisymm, partial_trace_keep\n",
    "\n",
    "f = err\n",
    "\n",
    "# Function to compute analytical gradient\n",
    "def grad_analytical(Glist, U, cU, L, perms, flatten=True):\n",
    "    return -ansatz_grad_vector(Glist, cU, U, L, perms, flatten=flatten)\n",
    "\n",
    "\n",
    "def grad_numerical(Glist, U, cU, epsilon=1e-6, flatten=True):\n",
    "    grads = []\n",
    "    for _ in range(len(Glist)):\n",
    "        W = Glist[_]\n",
    "        d = Glist[_].shape[0]\n",
    "        grad_complex = np.zeros((d, d), dtype=complex)\n",
    "\n",
    "        for i in range(d):\n",
    "            for j in range(d):\n",
    "                # Real perturbation\n",
    "                dW_real = np.zeros_like(W, dtype=complex)\n",
    "                dW_real[i, j] = epsilon\n",
    "\n",
    "                Glist_plus_real  = Glist[:_] + [W + dW_real] + Glist[_+1:]\n",
    "                Glist_minus_real = Glist[:_] + [W - dW_real] + Glist[_+1:]\n",
    "                \n",
    "                f_plus  = f(Glist_plus_real, U, L, perms, cU)\n",
    "                f_minus = f(Glist_minus_real, U, L, perms, cU)\n",
    "                df_real = (f_plus - f_minus) / (2 * epsilon)\n",
    "\n",
    "                # Imaginary perturbation\n",
    "                dW_imag = np.zeros_like(W, dtype=complex)\n",
    "                dW_imag[i, j] = 1j * epsilon\n",
    "\n",
    "                Glist_plus_imag  = Glist[:_] + [W + dW_imag] + Glist[_+1:]\n",
    "                Glist_minus_imag = Glist[:_] + [W - dW_imag] + Glist[_+1:]\n",
    "                \n",
    "                f_plus  = f(Glist_plus_imag, U, L, perms, cU)\n",
    "                f_minus = f(Glist_minus_imag, U, L, perms, cU)\n",
    "                df_imag = (f_plus - f_minus) / (2 * epsilon)\n",
    "    \n",
    "                grad_complex[i, j] = df_real + 1j * df_imag\n",
    "        grads.append(grad_complex)\n",
    "    \n",
    "    stack = np.stack([ antisymm_to_real(antisymm(W.conj().T @ grads[j])) for j, W in enumerate(Glist)])\n",
    "    if flatten:\n",
    "        return stack.reshape(-1)\n",
    "    return stack\n",
    "\n",
    "\n",
    "# Compute gradients\n",
    "grad_a = grad_analytical(Glist, U, cU, L, perms, flatten=True)\n",
    "grad_n = grad_numerical(Glist, U, cU, flatten=True)\n",
    "\n",
    "# Compare\n",
    "error = np.linalg.norm(grad_a - grad_n)\n",
    "print(\"Difference (Frobenius norm):\", error)"
   ]
  },
  {
   "cell_type": "code",
   "execution_count": 14,
   "id": "c887c193-b49c-4093-9e95-50a1f36c5f4e",
   "metadata": {},
   "outputs": [
    {
     "data": {
      "text/plain": [
       "'\\n    Gradient seems to be correct!\\n    Now we have to debug Hessian \\n    :((\\n'"
      ]
     },
     "execution_count": 14,
     "metadata": {},
     "output_type": "execute_result"
    }
   ],
   "source": [
    "\"\"\"\n",
    "    Gradient seems to be correct!\n",
    "    Now we have to debug Hessian \n",
    "    :((\n",
    "\"\"\"\n",
    "\n"
   ]
  },
  {
   "cell_type": "code",
   "execution_count": null,
   "id": "ef27a212-7532-43b3-8fed-c5819d909c33",
   "metadata": {},
   "outputs": [],
   "source": []
  },
  {
   "cell_type": "code",
   "execution_count": null,
   "id": "ddbd1fea-74e4-4971-8354-4fc5dd38a9d4",
   "metadata": {},
   "outputs": [],
   "source": []
  },
  {
   "cell_type": "code",
   "execution_count": null,
   "id": "d64498af-f60a-4dbd-974f-f0a4ba7ce412",
   "metadata": {},
   "outputs": [],
   "source": []
  },
  {
   "cell_type": "code",
   "execution_count": null,
   "id": "9fde7399-694f-4277-b9d9-10b70657767b",
   "metadata": {},
   "outputs": [],
   "source": []
  },
  {
   "cell_type": "code",
   "execution_count": null,
   "id": "45ace9bc-16ba-4009-a33a-edf9aff763df",
   "metadata": {},
   "outputs": [],
   "source": []
  },
  {
   "cell_type": "code",
   "execution_count": null,
   "id": "7dc2716b-46f5-493a-81d6-52940548d0b1",
   "metadata": {},
   "outputs": [],
   "source": []
  },
  {
   "cell_type": "code",
   "execution_count": null,
   "id": "23800857-b903-4133-b887-9e4f704193e6",
   "metadata": {},
   "outputs": [],
   "source": []
  },
  {
   "cell_type": "code",
   "execution_count": null,
   "id": "dbb33b23-7c17-4dc6-b646-b5d730a2589b",
   "metadata": {},
   "outputs": [],
   "source": []
  },
  {
   "cell_type": "code",
   "execution_count": null,
   "id": "3e9512d5-6f7a-47b2-b320-8d26269cbb4f",
   "metadata": {},
   "outputs": [],
   "source": []
  },
  {
   "cell_type": "code",
   "execution_count": null,
   "id": "e1e57345-86ad-485e-9f15-f1ff175919c2",
   "metadata": {},
   "outputs": [],
   "source": []
  },
  {
   "cell_type": "code",
   "execution_count": null,
   "id": "f62ca201-911c-4dda-98af-aef6da6e51a4",
   "metadata": {},
   "outputs": [],
   "source": []
  },
  {
   "cell_type": "code",
   "execution_count": null,
   "id": "8c1b7286-e775-4f75-8c61-3258827fb154",
   "metadata": {},
   "outputs": [],
   "source": [
    "from utils import antisymm, antisymm_to_real, applyG_block\n",
    "\n",
    "def ansatz_grad_vector_LOCAL(Glist, cU, U, L, perms, flatten=True):\n",
    "    Vs = Glist[:len(perms)]\n",
    "    Ws = Glist[len(perms):]\n",
    "    W = Ws[1]\n",
    "    \n",
    "    U_tilde = applyG_block(Ws[0], L, perms[0]) @ U @ applyG_block(Vs[1], L, perms[1]) @ applyG_block(Vs[0], L, perms[0]) @ cU.conj().T\n",
    "    grad = ansatz_grad(W2, L, U_tilde, perms[1])\n",
    "    grad = grad.conj().T\n",
    "\n",
    "    return antisymm_to_real(\n",
    "        W @  # THIS IS THE FIX??!?!?!\n",
    "        antisymm(W.conj().T @ grad) ) \n",
    "    #return grad"
   ]
  },
  {
   "cell_type": "code",
   "execution_count": null,
   "id": "ec636adf-e84f-48e3-b19f-e37ab43b7893",
   "metadata": {},
   "outputs": [],
   "source": [
    "from utils import antisymm, antisymm_to_real\n",
    "\n",
    "def ansatz_grad_vector_LOCAL(Glist, cU, U, L, perms, flatten=True):\n",
    "    V = Glist[:len(perms)][0]\n",
    "    W = Glist[len(perms):][0]\n",
    "    \n",
    "    grads_V = [] \n",
    "    U_tilde = cU.conj().T\n",
    "    U_tilde = U_tilde @ W\n",
    "    U_tilde = U_tilde @ U\n",
    "    grads_V.append(U_tilde)\n",
    "\n",
    "    grads_W = []\n",
    "    U_tilde = U.conj().T @ V.conj().T @ cU\n",
    "    grads_W.append(U_tilde)\n",
    "    grad = np.stack(grads_V + grads_W)\n",
    "\n",
    "    return np.stack([antisymm_to_real( \n",
    "        Glist[j] @  # THIS IS THE FIX??!?!?!\n",
    "        antisymm(Glist[j].conj().T @ grad[j]) ) for j in range(len(grad))])"
   ]
  }
 ],
 "metadata": {
  "kernelspec": {
   "display_name": "Python3.10 (qc)",
   "language": "python",
   "name": "qc"
  },
  "language_info": {
   "codemirror_mode": {
    "name": "ipython",
    "version": 3
   },
   "file_extension": ".py",
   "mimetype": "text/x-python",
   "name": "python",
   "nbconvert_exporter": "python",
   "pygments_lexer": "ipython3",
   "version": "3.10.13"
  }
 },
 "nbformat": 4,
 "nbformat_minor": 5
}
