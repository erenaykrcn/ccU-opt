{
 "cells": [
  {
   "cell_type": "code",
   "execution_count": 239,
   "id": "4c2506bf-cde1-4646-8fd8-3f2aa9d38161",
   "metadata": {},
   "outputs": [],
   "source": [
    "import qiskit\n",
    "from qiskit.quantum_info import state_fidelity\n",
    "import numpy as np\n",
    "from numpy import linalg as LA\n",
    "import qib\n",
    "import matplotlib.pyplot as plt\n",
    "import scipy\n",
    "\n",
    "I2 = np.eye(2)\n",
    "X = np.array([[0, 1], [1, 0]])\n",
    "Y = np.array([[0, -1j], [1j, 0]])\n",
    "Z = np.array([[1, 0], [0, -1]])\n",
    "\n",
    "# Random unitary generator\n",
    "def random_unitary(n):\n",
    "    A = np.random.randn(n, n) + 1j * np.random.randn(n, n)\n",
    "    Q, _ = np.linalg.qr(A)\n",
    "    return Q\n",
    "\n",
    "L = 6\n",
    "# construct Hamiltonian\n",
    "latt = qib.lattice.IntegerLattice((L,), pbc=True)\n",
    "field = qib.field.Field(qib.field.ParticleType.QUBIT, latt)\n",
    "#hamil = qib.IsingHamiltonian(field, 1, 0, 0).as_matrix().toarray()\n",
    "hamil = qib.HeisenbergHamiltonian(field, (1,1,1), (0,0,0)).as_matrix().toarray()\n",
    "perms = [[i for i in range(L)], [i for i in range(1, L)]+[0], [i for i in range(L)]]\n",
    "#perms = [[i for i in range(L)]]\n",
    "\n",
    "t = 1\n",
    "U = scipy.linalg.expm(-1j*t*hamil)\n",
    "U_back = scipy.linalg.expm(1j*t*hamil)\n",
    "cU = U_back"
   ]
  },
  {
   "cell_type": "code",
   "execution_count": 240,
   "id": "8e8c4b4c-70b3-4ead-8dde-0f2e75427f60",
   "metadata": {
    "scrolled": true
   },
   "outputs": [
    {
     "ename": "KeyboardInterrupt",
     "evalue": "",
     "output_type": "error",
     "traceback": [
      "\u001b[0;31m---------------------------------------------------------------------------\u001b[0m",
      "\u001b[0;31mKeyboardInterrupt\u001b[0m                         Traceback (most recent call last)",
      "Cell \u001b[0;32mIn[240], line 47\u001b[0m\n\u001b[1;32m     45\u001b[0m i, j \u001b[38;5;241m=\u001b[39m \u001b[38;5;241m0\u001b[39m,\u001b[38;5;241m0\u001b[39m\n\u001b[1;32m     46\u001b[0m Glist \u001b[38;5;241m=\u001b[39m [random_unitary(\u001b[38;5;241m4\u001b[39m) \u001b[38;5;28;01mfor\u001b[39;00m _ \u001b[38;5;129;01min\u001b[39;00m \u001b[38;5;28mrange\u001b[39m(\u001b[38;5;241m2\u001b[39m \u001b[38;5;241m*\u001b[39m \u001b[38;5;28mlen\u001b[39m(perms))]\n\u001b[0;32m---> 47\u001b[0m H \u001b[38;5;241m=\u001b[39m \u001b[43mansatz_hessian_matrix\u001b[49m\u001b[43m(\u001b[49m\u001b[43mGlist\u001b[49m\u001b[43m,\u001b[49m\u001b[43m \u001b[49m\u001b[43mcU\u001b[49m\u001b[43m,\u001b[49m\u001b[43m \u001b[49m\u001b[43mU\u001b[49m\u001b[43m,\u001b[49m\u001b[43m \u001b[49m\u001b[43mL\u001b[49m\u001b[43m,\u001b[49m\u001b[43m \u001b[49m\u001b[43mperms\u001b[49m\u001b[43m,\u001b[49m\u001b[43m \u001b[49m\u001b[43munprojected\u001b[49m\u001b[38;5;241;43m=\u001b[39;49m\u001b[38;5;28;43;01mFalse\u001b[39;49;00m\u001b[43m,\u001b[49m\u001b[43m \u001b[49m\u001b[43mflatten\u001b[49m\u001b[38;5;241;43m=\u001b[39;49m\u001b[38;5;28;43;01mFalse\u001b[39;49;00m\u001b[43m)\u001b[49m\n\u001b[1;32m     48\u001b[0m grad \u001b[38;5;241m=\u001b[39m []\n\u001b[1;32m     49\u001b[0m \u001b[38;5;28;01mfor\u001b[39;00m _ \u001b[38;5;129;01min\u001b[39;00m \u001b[38;5;28mrange\u001b[39m(\u001b[38;5;241m16\u001b[39m):\n",
      "File \u001b[0;32m~/Desktop/QC/ccU-opt/examples/../2qubit-ccU/hessian.py:283\u001b[0m, in \u001b[0;36mansatz_hessian_matrix\u001b[0;34m(Glist, cU, U, L, perms, flatten, unprojected)\u001b[0m\n\u001b[1;32m    280\u001b[0m \tZ[j] \u001b[38;5;241m=\u001b[39m \u001b[38;5;241m1\u001b[39m\n\u001b[1;32m    281\u001b[0m \tZ \u001b[38;5;241m=\u001b[39m real_to_antisymm(np\u001b[38;5;241m.\u001b[39mreshape(Z, (\u001b[38;5;241m4\u001b[39m, \u001b[38;5;241m4\u001b[39m)))\n\u001b[0;32m--> 283\u001b[0m dVZj \u001b[38;5;241m=\u001b[39m \u001b[43mansatz_hess_V\u001b[49m\u001b[43m(\u001b[49m\u001b[43mVlist\u001b[49m\u001b[43m,\u001b[49m\u001b[43m \u001b[49m\u001b[43mWlist\u001b[49m\u001b[43m,\u001b[49m\u001b[43m \u001b[49m\u001b[43mL\u001b[49m\u001b[43m,\u001b[49m\u001b[43m \u001b[49m\u001b[43mVlist\u001b[49m\u001b[43m[\u001b[49m\u001b[43mk\u001b[49m\u001b[43m]\u001b[49m\u001b[43m \u001b[49m\u001b[38;5;241;43m@\u001b[39;49m\u001b[43m \u001b[49m\u001b[43mZ\u001b[49m\u001b[43m,\u001b[49m\u001b[43m \u001b[49m\u001b[43mk\u001b[49m\u001b[43m,\u001b[49m\u001b[43m \u001b[49m\u001b[43mcU\u001b[49m\u001b[43m,\u001b[49m\u001b[43m \u001b[49m\u001b[43mU\u001b[49m\u001b[43m,\u001b[49m\u001b[43m \u001b[49m\u001b[43mperms\u001b[49m\u001b[43m,\u001b[49m\u001b[43m \u001b[49m\u001b[43munprojected\u001b[49m\u001b[38;5;241;43m=\u001b[39;49m\u001b[43munprojected\u001b[49m\u001b[43m)\u001b[49m\n\u001b[1;32m    285\u001b[0m \u001b[38;5;28;01mfor\u001b[39;00m i \u001b[38;5;129;01min\u001b[39;00m \u001b[38;5;28mrange\u001b[39m(\u001b[38;5;241m2\u001b[39m\u001b[38;5;241m*\u001b[39meta):\n\u001b[1;32m    286\u001b[0m \tHess[i, :, k, j] \u001b[38;5;241m=\u001b[39m dVZj[i]\u001b[38;5;241m.\u001b[39mreshape(\u001b[38;5;241m-\u001b[39m\u001b[38;5;241m1\u001b[39m) \u001b[38;5;28;01mif\u001b[39;00m unprojected \u001b[38;5;28;01melse\u001b[39;00m \\\n\u001b[1;32m    287\u001b[0m \t\t\tantisymm_to_real(antisymm( Glist[i]\u001b[38;5;241m.\u001b[39mconj()\u001b[38;5;241m.\u001b[39mT \u001b[38;5;241m@\u001b[39m dVZj[i] ))\u001b[38;5;241m.\u001b[39mreshape(\u001b[38;5;241m-\u001b[39m\u001b[38;5;241m1\u001b[39m)\n",
      "File \u001b[0;32m~/Desktop/QC/ccU-opt/examples/../2qubit-ccU/hessian.py:109\u001b[0m, in \u001b[0;36mansatz_hess_V\u001b[0;34m(Vlist, Wlist, L, Z, k, cU, U, perms, unprojected)\u001b[0m\n\u001b[1;32m    107\u001b[0m U_tilde \u001b[38;5;241m=\u001b[39m U \u001b[38;5;241m@\u001b[39m U_tilde\n\u001b[1;32m    108\u001b[0m \u001b[38;5;28;01mfor\u001b[39;00m j \u001b[38;5;129;01min\u001b[39;00m \u001b[38;5;28mrange\u001b[39m(\u001b[38;5;28mlen\u001b[39m(Wlist)):\n\u001b[0;32m--> 109\u001b[0m \tU_tilde \u001b[38;5;241m=\u001b[39m \u001b[43mapplyG_block\u001b[49m\u001b[43m(\u001b[49m\u001b[43mWlist\u001b[49m\u001b[43m[\u001b[49m\u001b[43mj\u001b[49m\u001b[43m]\u001b[49m\u001b[43m,\u001b[49m\u001b[43m \u001b[49m\u001b[43mL\u001b[49m\u001b[43m,\u001b[49m\u001b[43m \u001b[49m\u001b[43mperms\u001b[49m\u001b[43m[\u001b[49m\u001b[43mj\u001b[49m\u001b[43m]\u001b[49m\u001b[43m)\u001b[49m \u001b[38;5;241m@\u001b[39m U_tilde\n\u001b[1;32m    110\u001b[0m U_tilde \u001b[38;5;241m=\u001b[39m cU\u001b[38;5;241m.\u001b[39mconj()\u001b[38;5;241m.\u001b[39mT \u001b[38;5;241m@\u001b[39m U_tilde\n\u001b[1;32m    111\u001b[0m \u001b[38;5;28;01mfor\u001b[39;00m j \u001b[38;5;129;01min\u001b[39;00m \u001b[38;5;28mrange\u001b[39m(i):\n",
      "File \u001b[0;32m~/Desktop/QC/ccU-opt/examples/../2qubit-ccU/utils.py:76\u001b[0m, in \u001b[0;36mapplyG_block\u001b[0;34m(G, L, perm)\u001b[0m\n\u001b[1;32m     74\u001b[0m U \u001b[38;5;241m=\u001b[39m np\u001b[38;5;241m.\u001b[39meye(\u001b[38;5;241m2\u001b[39m\u001b[38;5;241m*\u001b[39m\u001b[38;5;241m*\u001b[39mL)\n\u001b[1;32m     75\u001b[0m \u001b[38;5;28;01mfor\u001b[39;00m j \u001b[38;5;129;01min\u001b[39;00m \u001b[38;5;28mrange\u001b[39m(\u001b[38;5;28mlen\u001b[39m(perm)\u001b[38;5;241m/\u001b[39m\u001b[38;5;241m/\u001b[39m\u001b[38;5;241m2\u001b[39m):\n\u001b[0;32m---> 76\u001b[0m \tU \u001b[38;5;241m=\u001b[39m \u001b[43mapplyG\u001b[49m\u001b[43m(\u001b[49m\u001b[43mG\u001b[49m\u001b[43m,\u001b[49m\u001b[43m \u001b[49m\u001b[43mperm\u001b[49m\u001b[43m[\u001b[49m\u001b[38;5;241;43m2\u001b[39;49m\u001b[38;5;241;43m*\u001b[39;49m\u001b[43mj\u001b[49m\u001b[43m]\u001b[49m\u001b[43m,\u001b[49m\u001b[43m \u001b[49m\u001b[43mperm\u001b[49m\u001b[43m[\u001b[49m\u001b[38;5;241;43m2\u001b[39;49m\u001b[38;5;241;43m*\u001b[39;49m\u001b[43mj\u001b[49m\u001b[38;5;241;43m+\u001b[39;49m\u001b[38;5;241;43m1\u001b[39;49m\u001b[43m]\u001b[49m\u001b[43m,\u001b[49m\u001b[43m \u001b[49m\u001b[43mL\u001b[49m\u001b[43m)\u001b[49m \u001b[38;5;241m@\u001b[39m U\n\u001b[1;32m     77\u001b[0m \u001b[38;5;28;01mreturn\u001b[39;00m U\n",
      "File \u001b[0;32m~/Desktop/QC/ccU-opt/examples/../2qubit-ccU/utils.py:68\u001b[0m, in \u001b[0;36mapplyG\u001b[0;34m(G, k, l, N)\u001b[0m\n\u001b[1;32m     66\u001b[0m G_01 \u001b[38;5;241m=\u001b[39m otimes([G] \u001b[38;5;241m+\u001b[39m [I2 \u001b[38;5;28;01mfor\u001b[39;00m i \u001b[38;5;129;01min\u001b[39;00m \u001b[38;5;28mrange\u001b[39m(N\u001b[38;5;241m-\u001b[39m\u001b[38;5;241m2\u001b[39m)])\n\u001b[1;32m     67\u001b[0m to_ret \u001b[38;5;241m=\u001b[39m G_01\n\u001b[0;32m---> 68\u001b[0m to_ret \u001b[38;5;241m=\u001b[39m \u001b[43mpermute_operation\u001b[49m\u001b[43m(\u001b[49m\u001b[43mto_ret\u001b[49m\u001b[43m,\u001b[49m\u001b[43m \u001b[49m\u001b[43mk\u001b[49m\u001b[43m,\u001b[49m\u001b[43m \u001b[49m\u001b[43ml\u001b[49m\u001b[43m,\u001b[49m\u001b[43m \u001b[49m\u001b[43mN\u001b[49m\u001b[43m)\u001b[49m \u001b[38;5;28;01mif\u001b[39;00m (k\u001b[38;5;241m!=\u001b[39m\u001b[38;5;241m0\u001b[39m \u001b[38;5;129;01mor\u001b[39;00m l\u001b[38;5;241m!=\u001b[39m\u001b[38;5;241m1\u001b[39m) \u001b[38;5;28;01melse\u001b[39;00m to_ret\n\u001b[1;32m     69\u001b[0m \u001b[38;5;28;01mreturn\u001b[39;00m to_ret\n",
      "\u001b[0;31mKeyboardInterrupt\u001b[0m: "
     ]
    }
   ],
   "source": [
    "# Numerical Test function for: d/G_j d/dG_i f(G)\n",
    "import sys\n",
    "sys.path.append(\"../ccU\")\n",
    "from utils import polar_decomp, project_unitary_tangent, real_to_antisymm, antisymm_to_real, antisymm\n",
    "\n",
    "\n",
    "def numerical_hessian(Glist, cU, U, L, perms, i, j, epsilon=1e-6):\n",
    "    \"\"\"Numerically compute d/dW1 of projected gradient dL/dV1 (Riemannian).\"\"\"\n",
    "    numerical_H = []\n",
    "\n",
    "    for _ in range(16):\n",
    "        Z_real = np.zeros(16)\n",
    "        Z_real[_] = 1.0\n",
    "        Z = real_to_antisymm(Z_real.reshape(4, 4))  # 4x4 anti-Hermitian direction\n",
    "\n",
    "        Gj_plus  = Glist[j] @ scipy.linalg.expm(+epsilon*Z)\n",
    "        Gj_minus = Glist[j] @ scipy.linalg.expm(-epsilon*Z)\n",
    "\n",
    "    \n",
    "        if i==j:\n",
    "            grad_plus  = ansatz_grad_vector(Glist[:j]+[Gj_plus]+Glist[j+1:], cU, U, L, perms, unprojected=True, flatten=False)[i]\n",
    "            grad_minus = ansatz_grad_vector(Glist[:j]+[Gj_minus]+Glist[j+1:], cU, U, L, perms, unprojected=True, flatten=False)[i]\n",
    "            dgrad = (grad_plus - grad_minus) / (2 * epsilon)  # shape (16,)\n",
    "            G = dgrad.reshape(4, 4)\n",
    "\n",
    "            V = Glist[j]\n",
    "            Z = V @ Z\n",
    "            G = project_unitary_tangent(V, G)\n",
    "            grad = ansatz_grad_vector(Glist, cU, U, L, perms, flatten=False, unprojected=True)[i]\n",
    "            G -= 0.5 * (Z @ grad.conj().T @ V + V @ grad.conj().T @ Z)\n",
    "            if not np.allclose(Z, project_unitary_tangent(V, Z)):\n",
    "                G -= 0.5 * (Z @ V.conj().T + V @ Z.conj().T) @ grad\n",
    "            G = antisymm_to_real(antisymm( V.conj().T @ G ))\n",
    "        else:\n",
    "            grad_plus  = ansatz_grad_vector(Glist[:j]+[Gj_plus]+Glist[j+1:], cU, U, L, perms, unprojected=False, flatten=False)[i]\n",
    "            grad_minus = ansatz_grad_vector(Glist[:j]+[Gj_minus]+Glist[j+1:], cU, U, L, perms, unprojected=False, flatten=False)[i]\n",
    "            dgrad = (grad_plus - grad_minus) / (2 * epsilon)  # shape (16,)\n",
    "            G = dgrad.reshape(4, 4)\n",
    "            \n",
    "        numerical_H.append(G)\n",
    "    \n",
    "    return np.array(numerical_H)  # shape: (16, 4, 4)\n",
    "\n",
    "\n",
    "i, j = 0,0\n",
    "Glist = [random_unitary(4) for _ in range(2 * len(perms))]\n",
    "H = ansatz_hessian_matrix(Glist, cU, U, L, perms, unprojected=False, flatten=False)\n",
    "grad = []\n",
    "for _ in range(16):\n",
    "    grad.append(H[i, :, j, _].reshape(4,4))\n",
    "analytical = np.array(grad)\n",
    "\n",
    "numerical = numerical_hessian(Glist, cU, U, L, perms, i, j)\n",
    "\n",
    "#print(\"Numerical 4x4 matrix:\\n\", numerical[0])\n",
    "#print(\"Analytical 4x4 matrix:\\n\", analytical[0])\n",
    "print(\"Difference norm:\", np.linalg.norm(numerical - analytical))"
   ]
  },
  {
   "cell_type": "code",
   "execution_count": 241,
   "id": "281c5308-cb51-4eab-93c2-90946395b076",
   "metadata": {},
   "outputs": [],
   "source": [
    "H = ansatz_hessian_matrix(Glist, cU, U, L, perms, unprojected=False, flatten=False)"
   ]
  },
  {
   "cell_type": "code",
   "execution_count": null,
   "id": "b107d8d2-a8ee-496b-821b-706fad4990f5",
   "metadata": {},
   "outputs": [],
   "source": []
  },
  {
   "cell_type": "code",
   "execution_count": null,
   "id": "d22b990a-8f77-4eaa-bd56-860d624a4714",
   "metadata": {},
   "outputs": [],
   "source": []
  },
  {
   "cell_type": "code",
   "execution_count": null,
   "id": "cd73f237-9bd2-4ae7-8312-d08b6381fe08",
   "metadata": {},
   "outputs": [],
   "source": []
  },
  {
   "cell_type": "code",
   "execution_count": null,
   "id": "bf0fda54-48ca-43a2-918b-a7318ac0a74d",
   "metadata": {},
   "outputs": [],
   "source": []
  },
  {
   "cell_type": "code",
   "execution_count": null,
   "id": "626317e3-0b3f-44cc-bffc-4257d73d4f33",
   "metadata": {},
   "outputs": [],
   "source": []
  },
  {
   "cell_type": "code",
   "execution_count": null,
   "id": "8ad86fac-b424-4c92-bf74-6c444efc7a41",
   "metadata": {},
   "outputs": [],
   "source": []
  }
 ],
 "metadata": {
  "kernelspec": {
   "display_name": "Python3.10 (qc)",
   "language": "python",
   "name": "qc"
  },
  "language_info": {
   "codemirror_mode": {
    "name": "ipython",
    "version": 3
   },
   "file_extension": ".py",
   "mimetype": "text/x-python",
   "name": "python",
   "nbconvert_exporter": "python",
   "pygments_lexer": "ipython3",
   "version": "3.10.13"
  }
 },
 "nbformat": 4,
 "nbformat_minor": 5
}
